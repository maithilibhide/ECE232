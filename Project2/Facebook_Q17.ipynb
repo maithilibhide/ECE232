{
 "cells": [
  {
   "cell_type": "code",
   "execution_count": 2,
   "metadata": {},
   "outputs": [],
   "source": [
    "library(\"igraph\")\n",
    "library(R.utils)"
   ]
  },
  {
   "cell_type": "code",
   "execution_count": 660,
   "metadata": {},
   "outputs": [],
   "source": [
    "compute_dist = function(graph, from, to, algorithm){\n",
    "    \n",
    "    if(algorithm == c(\"jaccard\"))\n",
    "        #jaccard returns a 2X2 matrix with diagonal scores giving the distance\n",
    "        return(similarity(graph, vids = c(from, to), method = c(algorithm))[1,2])\n",
    "        \n",
    "    \n",
    "    else if(algorithm == c(\"adamicadar\"))\n",
    "        #Invlogweighted accepts only one argument and computes the distance from that to all other vertices\n",
    "        #which(to == V(new_graph)$name) is used to find the index of to node in the resultant vector\n",
    "        return(similarity(graph, vids = c(as.character(from)), method = c(\"invlogweighted\"))[which(to == V(graph)$name)])\n",
    "    \n",
    "    \n",
    "    else\n",
    "        return(length(intersect(neighbors(graph, as.character(from)), neighbors(graph, to))))\n",
    "    \n",
    "    \n",
    "}"
   ]
  },
  {
   "cell_type": "code",
   "execution_count": 247,
   "metadata": {},
   "outputs": [],
   "source": [
    "file_path = \"facebook/\""
   ]
  },
  {
   "cell_type": "code",
   "execution_count": 386,
   "metadata": {},
   "outputs": [],
   "source": [
    "edge_file <- paste(\"facebook/facebook_combined.txt\" , sep=\"\")\n",
    "graph <- read_graph(edge_file , format = \"edgelist\" , directed=FALSE)"
   ]
  },
  {
   "cell_type": "code",
   "execution_count": 387,
   "metadata": {},
   "outputs": [],
   "source": [
    "V(graph)$name <- V(graph)"
   ]
  },
  {
   "cell_type": "code",
   "execution_count": 465,
   "metadata": {},
   "outputs": [
    {
     "name": "stdout",
     "output_type": "stream",
     "text": [
      " [1] 497 579 601 616 619 628 644 659 660 662 663\n",
      "The number of users in the list is 11\n"
     ]
    }
   ],
   "source": [
    "neighbors <- c(415, neighbors(graph, as.character(415)))\n",
    "personal_net = induced_subgraph(graph, vids = as.character(neighbors))\n",
    "target = V(personal_net)$name[degree(personal_net)==24]\n",
    "print(target)\n",
    "writeLines(paste('The number of users in the list is', length(target)))"
   ]
  },
  {
   "cell_type": "code",
   "execution_count": 651,
   "metadata": {},
   "outputs": [],
   "source": [
    "question_17 = function(target, personal_net, algorithm, num_iterations = 10){\n",
    "    \n",
    "    node_accuracies <- c()\n",
    "\n",
    "    for(node in target){\n",
    "\n",
    "            accuracy <- c()\n",
    "\n",
    "            for(i in c(1:num_iterations)){\n",
    "\n",
    "                node_neighbors = neighbors(personal_net, as.character(node))\n",
    "\n",
    "                deleted_friends <- sample(node_neighbors, length(node_neighbors)*0.25)\n",
    "                t <- length(deleted_friends) # t is the number of deleted i.e to be recommended friends\n",
    "\n",
    "                delete_seq <- paste(node, \"|\", deleted_friends$name, sep = \"\")\n",
    "\n",
    "                new_graph <- delete_edges(personal_net, c(delete_seq))\n",
    "\n",
    "                node_neighbors = neighbors(new_graph, as.character(node))\n",
    "                node_not_neighbors = difference(V(new_graph), node_neighbors)\n",
    "\n",
    "                score <- c()\n",
    "                for(to in node_not_neighbors$name)\n",
    "                    score <- c(score, compute_dist(new_graph, node, as.character(to), algorithm))\n",
    "                    #print(score, similarity(new_graph, vids = c(node), method = c(\"invlogweighted\")))\n",
    "\n",
    "                recommended_friends <- node_not_neighbors[sort(score, decreasing = TRUE, index.return=TRUE)$ix[1:t]]        \n",
    "                correct_recommendations <- length(intersect(recommended_friends, deleted_friends))\n",
    "\n",
    "                accuracy <- c(accuracy, correct_recommendations/t)\n",
    "\n",
    "            }\n",
    "\n",
    "            printf(paste(\"\\nNode - \", node , \" Mean accuracy over 10 trials - \", mean(accuracy)))\n",
    "            node_accuracies <- c(node_accuracies, mean(accuracy))\n",
    "    }\n",
    "    \n",
    "    return(mean(node_accuracies))\n",
    "}"
   ]
  },
  {
   "cell_type": "code",
   "execution_count": 662,
   "metadata": {},
   "outputs": [
    {
     "name": "stdout",
     "output_type": "stream",
     "text": [
      "\n",
      "Node -  497  Mean accuracy over 10 trials -  0.133333333333333\n",
      "Node -  579  Mean accuracy over 10 trials -  0.816666666666667\n",
      "Node -  601  Mean accuracy over 10 trials -  0.8\n",
      "Node -  616  Mean accuracy over 10 trials -  0.683333333333333\n",
      "Node -  619  Mean accuracy over 10 trials -  0.45\n",
      "Node -  628  Mean accuracy over 10 trials -  0.833333333333333\n",
      "Node -  644  Mean accuracy over 10 trials -  0.783333333333333\n",
      "Node -  659  Mean accuracy over 10 trials -  0.833333333333333\n",
      "Node -  660  Mean accuracy over 10 trials -  0.833333333333333\n",
      "Node -  662  Mean accuracy over 10 trials -  0.783333333333333\n",
      "Node -  663  Mean accuracy over 10 trials -  0.833333333333333\n",
      "Accuracy of Jaccard  0.707575757575758"
     ]
    }
   ],
   "source": [
    "acc <- question_17(target, personal_net, \"jaccard\")\n",
    "printf(paste(\"\\nAccuracy of Jaccard \", acc))"
   ]
  },
  {
   "cell_type": "code",
   "execution_count": 657,
   "metadata": {},
   "outputs": [
    {
     "name": "stdout",
     "output_type": "stream",
     "text": [
      "\n",
      "Node -  497  Mean accuracy over 10 trials -  0.316666666666667\n",
      "Node -  579  Mean accuracy over 10 trials -  1\n",
      "Node -  601  Mean accuracy over 10 trials -  0.866666666666667\n",
      "Node -  616  Mean accuracy over 10 trials -  0.833333333333333\n",
      "Node -  619  Mean accuracy over 10 trials -  0.466666666666667\n",
      "Node -  628  Mean accuracy over 10 trials -  0.983333333333333\n",
      "Node -  644  Mean accuracy over 10 trials -  0.866666666666667\n",
      "Node -  659  Mean accuracy over 10 trials -  0.983333333333333\n",
      "Node -  660  Mean accuracy over 10 trials -  1\n",
      "Node -  662  Mean accuracy over 10 trials -  0.883333333333333\n",
      "Node -  663  Mean accuracy over 10 trials -  0.983333333333333\n",
      "Accuracy of Adamic Adar  0.834848484848485"
     ]
    }
   ],
   "source": [
    "acc <- question_17(target, personal_net, \"adamicadar\")\n",
    "printf(paste(\"\\nAccuracy of Adamic Adar \", acc))"
   ]
  },
  {
   "cell_type": "code",
   "execution_count": 664,
   "metadata": {},
   "outputs": [
    {
     "name": "stdout",
     "output_type": "stream",
     "text": [
      "\n",
      "Node -  497  Mean accuracy over 10 trials -  0.2\n",
      "Node -  579  Mean accuracy over 10 trials -  0.833333333333333\n",
      "Node -  601  Mean accuracy over 10 trials -  0.8\n",
      "Node -  616  Mean accuracy over 10 trials -  0.683333333333333\n",
      "Node -  619  Mean accuracy over 10 trials -  0.433333333333333\n",
      "Node -  628  Mean accuracy over 10 trials -  0.833333333333333\n",
      "Node -  644  Mean accuracy over 10 trials -  0.8\n",
      "Node -  659  Mean accuracy over 10 trials -  0.833333333333333\n",
      "Node -  660  Mean accuracy over 10 trials -  0.833333333333333\n",
      "Node -  662  Mean accuracy over 10 trials -  0.783333333333333\n",
      "Node -  663  Mean accuracy over 10 trials -  0.833333333333333\n",
      "Accuracy of Common Neighbors  0.715151515151515"
     ]
    }
   ],
   "source": [
    "acc <- question_17(target, personal_net, \"common_neighbors\")\n",
    "printf(paste(\"\\nAccuracy of Common Neighbors \", acc))"
   ]
  },
  {
   "cell_type": "code",
   "execution_count": null,
   "metadata": {},
   "outputs": [],
   "source": []
  }
 ],
 "metadata": {
  "kernelspec": {
   "display_name": "R",
   "language": "R",
   "name": "ir"
  },
  "language_info": {
   "codemirror_mode": "r",
   "file_extension": ".r",
   "mimetype": "text/x-r-source",
   "name": "R",
   "pygments_lexer": "r",
   "version": "3.4.3"
  }
 },
 "nbformat": 4,
 "nbformat_minor": 2
}
