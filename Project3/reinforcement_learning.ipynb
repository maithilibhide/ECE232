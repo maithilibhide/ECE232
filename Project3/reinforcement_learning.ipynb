{
 "cells": [
  {
   "cell_type": "code",
   "execution_count": 411,
   "metadata": {},
   "outputs": [],
   "source": [
    "import numpy as np\n",
    "import seaborn as sns\n",
    "from matplotlib.colors import ListedColormap\n",
    "import math\n",
    "from collections import defaultdict\n",
    "np.random.seed(0)"
   ]
  },
  {
   "cell_type": "code",
   "execution_count": 66,
   "metadata": {},
   "outputs": [
    {
     "data": {
      "text/plain": [
       "<matplotlib.axes._subplots.AxesSubplot at 0x11a709550>"
      ]
     },
     "execution_count": 66,
     "metadata": {},
     "output_type": "execute_result"
    },
    {
     "data": {
      "image/png": "[encoded data removed]",
      "text/plain": [
       "<matplotlib.figure.Figure at 0x11a8a5438>"
      ]
     },
     "metadata": {},
     "output_type": "display_data"
    }
   ],
   "source": [
    "reward1 = np.zeros((10,10))\n",
    "reward1[9,9] = 1\n",
    "#cmap = ListedColormap(sns.color_palette(\"Blues\"))\n",
    "#cmap = sns.cm.rocket_r\n",
    "sns.heatmap(reward1, linewidths=.1)"
   ]
  },
  {
   "cell_type": "code",
   "execution_count": 67,
   "metadata": {},
   "outputs": [
    {
     "data": {
      "text/plain": [
       "<matplotlib.axes._subplots.AxesSubplot at 0x11a9d6d68>"
      ]
     },
     "execution_count": 67,
     "metadata": {},
     "output_type": "execute_result"
    },
    {
     "data": {
      "image/png": "[encoded data removed]",
      "text/plain": [
       "<matplotlib.figure.Figure at 0x11a9dacc0>"
      ]
     },
     "metadata": {},
     "output_type": "display_data"
    }
   ],
   "source": [
    "reward2 = np.zeros((10,10))\n",
    "reward2[[i for i in range(1,7)] , 4] = -100\n",
    "reward2[1,5] = -100\n",
    "reward2[[i for i in range(1,4)] , 6] = -100\n",
    "reward2[[i for i in range(7,9)] , 6] = -100\n",
    "reward2[3,7] = -100\n",
    "reward2[7,7] = -100\n",
    "reward2[[i for i in range(3,8)] , 8] = -100\n",
    "reward2[9,9] = 10\n",
    "sns.heatmap(reward2, vmax=10, linewidths=.1)"
   ]
  },
  {
   "cell_type": "code",
   "execution_count": 163,
   "metadata": {},
   "outputs": [
    {
     "data": {
      "text/plain": [
       "array([[ 0, 10, 20, 30, 40, 50, 60, 70, 80, 90],\n",
       "       [ 1, 11, 21, 31, 41, 51, 61, 71, 81, 91],\n",
       "       [ 2, 12, 22, 32, 42, 52, 62, 72, 82, 92],\n",
       "       [ 3, 13, 23, 33, 43, 53, 63, 73, 83, 93],\n",
       "       [ 4, 14, 24, 34, 44, 54, 64, 74, 84, 94],\n",
       "       [ 5, 15, 25, 35, 45, 55, 65, 75, 85, 95],\n",
       "       [ 6, 16, 26, 36, 46, 56, 66, 76, 86, 96],\n",
       "       [ 7, 17, 27, 37, 47, 57, 67, 77, 87, 97],\n",
       "       [ 8, 18, 28, 38, 48, 58, 68, 78, 88, 98],\n",
       "       [ 9, 19, 29, 39, 49, 59, 69, 79, 89, 99]])"
      ]
     },
     "execution_count": 163,
     "metadata": {},
     "output_type": "execute_result"
    }
   ],
   "source": [
    "vals = np.arange(0,100)\n",
    "state_vals = [vals[i:i+10] for i in range(0,100,10)]\n",
    "state_space = np.array(state_vals).T\n",
    "state_space\n",
    "#sns.heatmap(state_space, annot=True, fmt=\"d\", linewidths=.1);"
   ]
  },
  {
   "cell_type": "code",
   "execution_count": 348,
   "metadata": {},
   "outputs": [
    {
     "data": {
      "text/plain": [
       "array([[ -1.,  -1.,  -1.,  -1.,  -1.,  -1.,  -1.,  -1.,  -1.,  -1.,  -1.,\n",
       "         -1.],\n",
       "       [ -1.,   0.,  10.,  20.,  30.,  40.,  50.,  60.,  70.,  80.,  90.,\n",
       "         -1.],\n",
       "       [ -1.,   1.,  11.,  21.,  31.,  41.,  51.,  61.,  71.,  81.,  91.,\n",
       "         -1.],\n",
       "       [ -1.,   2.,  12.,  22.,  32.,  42.,  52.,  62.,  72.,  82.,  92.,\n",
       "         -1.],\n",
       "       [ -1.,   3.,  13.,  23.,  33.,  43.,  53.,  63.,  73.,  83.,  93.,\n",
       "         -1.],\n",
       "       [ -1.,   4.,  14.,  24.,  34.,  44.,  54.,  64.,  74.,  84.,  94.,\n",
       "         -1.],\n",
       "       [ -1.,   5.,  15.,  25.,  35.,  45.,  55.,  65.,  75.,  85.,  95.,\n",
       "         -1.],\n",
       "       [ -1.,   6.,  16.,  26.,  36.,  46.,  56.,  66.,  76.,  86.,  96.,\n",
       "         -1.],\n",
       "       [ -1.,   7.,  17.,  27.,  37.,  47.,  57.,  67.,  77.,  87.,  97.,\n",
       "         -1.],\n",
       "       [ -1.,   8.,  18.,  28.,  38.,  48.,  58.,  68.,  78.,  88.,  98.,\n",
       "         -1.],\n",
       "       [ -1.,   9.,  19.,  29.,  39.,  49.,  59.,  69.,  79.,  89.,  99.,\n",
       "         -1.],\n",
       "       [ -1.,  -1.,  -1.,  -1.,  -1.,  -1.,  -1.,  -1.,  -1.,  -1.,  -1.,\n",
       "         -1.]])"
      ]
     },
     "execution_count": 348,
     "metadata": {},
     "output_type": "execute_result"
    }
   ],
   "source": [
    "a = np.empty(10)\n",
    "a.fill(-1)\n",
    "modified_state_space = np.vstack((a, state_space, a))\n",
    "b = np.empty((12,1))\n",
    "b.fill(-1)\n",
    "modified_state_space = np.hstack((b, modified_state_space, b))\n",
    "modified_state_space"
   ]
  },
  {
   "cell_type": "code",
   "execution_count": 103,
   "metadata": {},
   "outputs": [
    {
     "data": {
      "text/plain": [
       "['R', 'L', 'U', 'D']"
      ]
     },
     "execution_count": 103,
     "metadata": {},
     "output_type": "execute_result"
    }
   ],
   "source": [
    "actions = [\"R\", \"L\", \"U\", \"D\"]\n",
    "actions"
   ]
  },
  {
   "cell_type": "code",
   "execution_count": 346,
   "metadata": {},
   "outputs": [],
   "source": [
    "def neighbors(currentst, nextst):\n",
    "    if nextst == currentst or nextst == currentst+1 or nextst == currentst-1 or nextst == currentst+10 or nextst == currentst-10:\n",
    "        return True\n",
    "    return False"
   ]
  },
  {
   "cell_type": "code",
   "execution_count": 347,
   "metadata": {},
   "outputs": [],
   "source": [
    "def get_transition_probability(current_state, next_st,  r, c, action, w = 0.1, modified_state_space=modified_state_space):\n",
    "    n = modified_state_space.shape[1]\n",
    "    if action == \"R\":\n",
    "        next_state = modified_state_space[r, c+1]\n",
    "    if action ==\"L\":\n",
    "        next_state = modified_state_space[r, c-1]\n",
    "    if action == \"U\":\n",
    "        next_state = modified_state_space[r-1, c]\n",
    "    if action == \"D\":\n",
    "        next_state = modified_state_space[r+1, c]\n",
    "   \n",
    "    if next_st == -1 or not neighbors(current_state, next_st):\n",
    "        # transition not possible\n",
    "        return 0  \n",
    "    if next_state == -1 and (current_state ==0 or current_state==9 or current_state==90 or current_state==99):\n",
    "        # corner states action moving off grid \n",
    "        if next_st == current_state:\n",
    "            return (1-w+w/4+w/4)\n",
    "        else:\n",
    "            return (w/4)\n",
    "    if next_state != -1 and (current_state ==0 or current_state==9 or current_state==90 or current_state==99):\n",
    "        # corner states action moving on grid \n",
    "        if next_st == current_state:\n",
    "            return (w/4+w/4)\n",
    "        if next_state == next_st:\n",
    "            return (1-w+w/4)\n",
    "        else:\n",
    "            return (w/4)\n",
    "        \n",
    "    if r == 1 or r == n-2 or c == 1 or c == n-2:\n",
    "        # edge states\n",
    "        if next_state == -1:\n",
    "            # edge states action moving off grid\n",
    "            if next_st == current_state:\n",
    "                return (1-w+w/4)\n",
    "            else:\n",
    "                return (w/4)\n",
    "        else:\n",
    "            # edge states action moving on grid\n",
    "            if next_st == next_state:\n",
    "                return (1-w+w/4)\n",
    "            else:\n",
    "                return (w/4)\n",
    "    else:\n",
    "        # non boundary states\n",
    "        if next_state == next_st:\n",
    "            return (1-w+w/4)\n",
    "        if neighbors(current_state, next_st):\n",
    "            return (w/4)\n",
    "        else:\n",
    "            # action not possible\n",
    "            return (0)\n",
    "        "
   ]
  },
  {
   "cell_type": "code",
   "execution_count": 351,
   "metadata": {},
   "outputs": [
    {
     "data": {
      "text/plain": [
       "0.025"
      ]
     },
     "execution_count": 351,
     "metadata": {},
     "output_type": "execute_result"
    }
   ],
   "source": [
    "get_transition_probability(44, 34,  5, 5, \"U\", w = 0.1)"
   ]
  },
  {
   "cell_type": "code",
   "execution_count": 428,
   "metadata": {},
   "outputs": [],
   "source": [
    "def get_estimation(s, reward, value, discount, modified_state_space=modified_state_space, action_set=actions):\n",
    "    neighbor_states = [(s[0],s[1]), (s[0]+1,s[1]), (s[0]-1,s[1]), (s[0],s[1]+1), (s[0], s[1]-1)]\n",
    "    probs = defaultdict(list)\n",
    "    action_map = {ac:actions.index(ac) for ac in action_set}\n",
    "    estimations = np.zeros((len(action_set), len(neighbor_states)))\n",
    "    \n",
    "    for ac in action_set:\n",
    "        for ns in neighbor_states:\n",
    "            probs[ac].append(get_transition_probability(modified_state_space[s], modified_state_space[ns],  s[0], s[1], ac))\n",
    "     \n",
    "    for ac in action_set:\n",
    "        for n in range(len(neighbor_states)):\n",
    "            estimations[action_map[ac], n] = probs[ac][n] * (reward[(s[0]-1, s[1]-1)] + discount*value[(s[0]-1, s[1]-1)])\n",
    "    \n",
    "    return estimations"
   ]
  },
  {
   "cell_type": "code",
   "execution_count": 431,
   "metadata": {},
   "outputs": [],
   "source": [
    "def value_iteration(reward, state_space, action_set, w, discount, epsilon):\n",
    "    n = len(state_space)\n",
    "    states = [(i,j) for i in range(n) for j in range(n)]\n",
    "    optimal_value = np.zeros((n,n))\n",
    "    optimal_policy = np.zeros((n,n))\n",
    "    delta = math.inf\n",
    "    while delta > 0.01:\n",
    "        delta = 0\n",
    "        for s in states:\n",
    "            v = optimal_value[s]\n",
    "            action_estimations = get_estimation((s[0]+1,s[1]+1), reward, optimal_value, discount)\n",
    "            optimal_value[s] = max(np.sum(action_estimations[:,1:], axis=1))\n",
    "            optimal_policy[s] = np.argmax(np.sum(action_estimations[:,1:], axis=1))\n",
    "            delta = max(delta, abs(v - optimal_value[s]))\n",
    "\n",
    "    return optimal_value, optimal_policy"
   ]
  },
  {
   "cell_type": "code",
   "execution_count": 443,
   "metadata": {},
   "outputs": [
    {
     "name": "stdout",
     "output_type": "stream",
     "text": [
      "[[ 0.          0.          0.          0.          0.          0.          0.\n",
      "   0.          0.          0.        ]\n",
      " [ 0.          0.          0.          0.          0.          0.          0.\n",
      "   0.          0.          0.        ]\n",
      " [ 0.          0.          0.          0.          0.          0.          0.\n",
      "   0.          0.          0.        ]\n",
      " [ 0.          0.          0.          0.          0.          0.          0.\n",
      "   0.          0.          0.        ]\n",
      " [ 0.          0.          0.          0.          0.          0.          0.\n",
      "   0.          0.          0.        ]\n",
      " [ 0.          0.          0.          0.          0.          0.          0.\n",
      "   0.          0.          0.        ]\n",
      " [ 0.          0.          0.          0.          0.          0.          0.\n",
      "   0.          0.          0.        ]\n",
      " [ 0.          0.          0.          0.          0.          0.          0.\n",
      "   0.          0.          0.        ]\n",
      " [ 0.          0.          0.          0.          0.          0.          0.\n",
      "   0.          0.          0.        ]\n",
      " [ 0.          0.          0.          0.          0.          0.          0.\n",
      "   0.          0.          3.93000917]]\n"
     ]
    }
   ],
   "source": [
    "value1, policy1 = value_iteration(reward1, state_space, actions, 0.1, 0.8, 0.01)\n",
    "print(value1)"
   ]
  },
  {
   "cell_type": "code",
   "execution_count": 446,
   "metadata": {},
   "outputs": [
    {
     "data": {
      "text/plain": [
       "<matplotlib.axes._subplots.AxesSubplot at 0x11c112d68>"
      ]
     },
     "execution_count": 446,
     "metadata": {},
     "output_type": "execute_result"
    },
    {
     "data": {
      "image/png": "[encoded data removed]",
      "text/plain": [
       "<matplotlib.figure.Figure at 0x11c0fe320>"
      ]
     },
     "metadata": {},
     "output_type": "display_data"
    }
   ],
   "source": [
    "sns.heatmap(value1, annot=True, linewidths=.1)"
   ]
  },
  {
   "cell_type": "code",
   "execution_count": 447,
   "metadata": {},
   "outputs": [
    {
     "name": "stdout",
     "output_type": "stream",
     "text": [
      "[[ 0.  0.  0.  0.  0.  0.  0.  0.  0.  0.]\n",
      " [ 0.  0.  0.  0.  0.  0.  0.  0.  0.  0.]\n",
      " [ 0.  0.  0.  0.  0.  0.  0.  0.  0.  0.]\n",
      " [ 0.  0.  0.  0.  0.  0.  0.  0.  0.  0.]\n",
      " [ 0.  0.  0.  0.  0.  0.  0.  0.  0.  0.]\n",
      " [ 0.  0.  0.  0.  0.  0.  0.  0.  0.  0.]\n",
      " [ 0.  0.  0.  0.  0.  0.  0.  0.  0.  0.]\n",
      " [ 0.  0.  0.  0.  0.  0.  0.  0.  0.  0.]\n",
      " [ 0.  0.  0.  0.  0.  0.  0.  0.  0.  0.]\n",
      " [ 0.  0.  0.  0.  0.  0.  0.  0.  0.  1.]]\n"
     ]
    }
   ],
   "source": [
    "print(policy1)"
   ]
  },
  {
   "cell_type": "code",
   "execution_count": 448,
   "metadata": {},
   "outputs": [
    {
     "name": "stdout",
     "output_type": "stream",
     "text": [
      "[[   0.            0.            0.            0.            0.            0.\n",
      "     0.            0.            0.            0.        ]\n",
      " [   0.            0.            0.            0.         -499.96597176\n",
      "  -499.96597176 -499.96597176    0.            0.            0.        ]\n",
      " [   0.            0.            0.            0.         -499.96597176\n",
      "     0.         -499.96597176    0.            0.            0.        ]\n",
      " [   0.            0.            0.            0.         -499.96597176\n",
      "     0.         -499.96597176 -499.96597176 -499.96597176    0.        ]\n",
      " [   0.            0.            0.            0.         -499.96597176\n",
      "     0.            0.            0.         -499.96597176    0.        ]\n",
      " [   0.            0.            0.            0.         -499.96597176\n",
      "     0.            0.            0.         -499.96597176    0.        ]\n",
      " [   0.            0.            0.            0.         -499.96597176\n",
      "     0.            0.            0.         -499.96597176    0.        ]\n",
      " [   0.            0.            0.            0.            0.            0.\n",
      "  -499.96597176 -499.96597176 -499.96597176    0.        ]\n",
      " [   0.            0.            0.            0.            0.            0.\n",
      "  -499.96597176    0.            0.            0.        ]\n",
      " [   0.            0.            0.            0.            0.            0.\n",
      "     0.            0.            0.           39.58303651]]\n"
     ]
    }
   ],
   "source": [
    "value2, policy2 = value_iteration(reward2, state_space, actions, 0.1, 0.8, 0.01)\n",
    "print(value2)"
   ]
  },
  {
   "cell_type": "code",
   "execution_count": 449,
   "metadata": {},
   "outputs": [
    {
     "data": {
      "text/plain": [
       "<matplotlib.axes._subplots.AxesSubplot at 0x11c40e908>"
      ]
     },
     "execution_count": 449,
     "metadata": {},
     "output_type": "execute_result"
    },
    {
     "data": {
      "image/png": "[encoded data removed]",
      "text/plain": [
       "<matplotlib.figure.Figure at 0x111accc18>"
      ]
     },
     "metadata": {},
     "output_type": "display_data"
    }
   ],
   "source": [
    "sns.heatmap(value2, annot=True, linewidths=.1)"
   ]
  },
  {
   "cell_type": "code",
   "execution_count": 450,
   "metadata": {},
   "outputs": [
    {
     "name": "stdout",
     "output_type": "stream",
     "text": [
      "[[ 0.  0.  0.  0.  0.  0.  0.  0.  0.  0.]\n",
      " [ 0.  0.  0.  0.  0.  0.  0.  0.  0.  0.]\n",
      " [ 0.  0.  0.  0.  0.  0.  0.  0.  0.  0.]\n",
      " [ 0.  0.  0.  0.  0.  0.  0.  0.  0.  0.]\n",
      " [ 0.  0.  0.  0.  0.  0.  0.  0.  0.  0.]\n",
      " [ 0.  0.  0.  0.  0.  0.  0.  0.  0.  0.]\n",
      " [ 0.  0.  0.  0.  0.  0.  0.  0.  0.  0.]\n",
      " [ 0.  0.  0.  0.  0.  0.  0.  0.  0.  0.]\n",
      " [ 0.  0.  0.  0.  0.  0.  0.  0.  0.  0.]\n",
      " [ 0.  0.  0.  0.  0.  0.  0.  0.  0.  1.]]\n"
     ]
    }
   ],
   "source": [
    "print(policy2)"
   ]
  },
  {
   "cell_type": "code",
   "execution_count": null,
   "metadata": {},
   "outputs": [],
   "source": []
  }
 ],
 "metadata": {
  "kernelspec": {
   "display_name": "Python 3",
   "language": "python",
   "name": "python3"
  },
  "language_info": {
   "codemirror_mode": {
    "name": "ipython",
    "version": 3
   },
   "file_extension": ".py",
   "mimetype": "text/x-python",
   "name": "python",
   "nbconvert_exporter": "python",
   "pygments_lexer": "ipython3",
   "version": "3.6.5"
  }
 },
 "nbformat": 4,
 "nbformat_minor": 2
}
