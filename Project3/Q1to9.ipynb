{
 "cells": [
  {
   "cell_type": "code",
   "execution_count": 517,
   "metadata": {},
   "outputs": [],
   "source": [
    "import numpy as np\n",
    "import seaborn as sns\n",
    "import matplotlib.pyplot as plt\n",
    "from matplotlib.colors import ListedColormap"
   ]
  },
  {
   "cell_type": "code",
   "execution_count": 535,
   "metadata": {},
   "outputs": [],
   "source": [
    "def pos(s, state_space):\n",
    "    return tuple(zip(*np.where(state_space == s)))[0]"
   ]
  },
  {
   "cell_type": "code",
   "execution_count": 519,
   "metadata": {},
   "outputs": [],
   "source": [
    "def get_reward(reward_fn, s, state_space):\n",
    "    return reward_fn[pos(s, state_space)]"
   ]
  },
  {
   "cell_type": "code",
   "execution_count": 520,
   "metadata": {},
   "outputs": [],
   "source": [
    "def get_neighbors(s, state_space):\n",
    "    \n",
    "    dim = state_space.shape[0]\n",
    "    i, j = pos(s, state_space)\n",
    "    neighbors = [state_space[i][j]]\n",
    "    \n",
    "    if i-1 >= 0: neighbors.append(state_space[i-1][j])\n",
    "    if i+1 < dim: neighbors.append(state_space[i+1][j])\n",
    "    if j-1 >= 0: neighbors.append(state_space[i][j-1])\n",
    "    if j+1 < dim: neighbors.append(state_space[i][j+1])\n",
    "        \n",
    "    return neighbors"
   ]
  },
  {
   "cell_type": "code",
   "execution_count": 521,
   "metadata": {},
   "outputs": [],
   "source": [
    "def get_cell_type(i, j, dim):\n",
    "    \n",
    "    if (i,j) in [(0, 0), (0, dim), (dim, 0), (dim, dim)]:\n",
    "        return 'corner'\n",
    "    \n",
    "    elif i == 0 or j == 0 or i == dim or j == dim:\n",
    "        return 'edge'\n",
    "    \n",
    "    else:\n",
    "        return 'non-boundary'"
   ]
  },
  {
   "cell_type": "code",
   "execution_count": 522,
   "metadata": {},
   "outputs": [],
   "source": [
    "def get_action_results(A, s, S, state_space, w, reward_fn, gamma, V):\n",
    "    \n",
    "    action_results = {}\n",
    "    for a in A:\n",
    "        action_results[a] = 0\n",
    "        neighbors = get_neighbors(s, state_space)\n",
    "        for s_dash in neighbors:\n",
    "            p = get_transition_probability(state_space, s, s_dash, a, w, A)\n",
    "            r = get_reward(reward_fn, s_dash, state_space)\n",
    "            action_results[a] += p * (r + gamma * V[pos(s_dash, state_space)])\n",
    "\n",
    "    return action_results"
   ]
  },
  {
   "cell_type": "code",
   "execution_count": 523,
   "metadata": {},
   "outputs": [],
   "source": [
    "def get_relation(i, j, i_d, j_d):\n",
    "    \n",
    "    if i == i_d:\n",
    "        if j_d == j-1: \n",
    "            return 'L'\n",
    "        elif j_d == j+1:\n",
    "            return 'R'\n",
    "        \n",
    "        elif j_d == j:\n",
    "            return 'S'\n",
    "   \n",
    "    elif j == j_d:\n",
    "        if i_d == i-1:\n",
    "            return 'U'\n",
    "        elif i_d == i+1:\n",
    "            return 'D'"
   ]
  },
  {
   "cell_type": "code",
   "execution_count": 524,
   "metadata": {},
   "outputs": [],
   "source": [
    "def chk_edge_dir(i, j, a, n):\n",
    "    return (i, a) in [(0, 'U'), (n, 'D')] or (j, a) in [(0, 'L'), (n, 'R')]\n",
    "\n",
    "def chk_corner_dir(i, j, a, n):\n",
    "    return (i, j, a) in [(0, 0, 'L'), (0, 0, 'U'),\n",
    "                        (0, n, 'R'), (0, n, 'U'),\n",
    "                        (n, 0, 'D'), (n, 0, 'L'),\n",
    "                        (n, n, 'D'), (n, n, 'R')]"
   ]
  },
  {
   "cell_type": "code",
   "execution_count": 525,
   "metadata": {},
   "outputs": [],
   "source": [
    "def get_transition_probability(state_space, s, s_dash, a, w, A):\n",
    "    \n",
    "    \n",
    "    dim = state_space.shape[0] - 1\n",
    "    \n",
    "    i, j = pos(s, state_space)\n",
    "    i_d, j_d = pos(s_dash, state_space)\n",
    "    \n",
    "    \n",
    "    s_dash_dir = get_relation(i, j, i_d, j_d)\n",
    "    cell_type = get_cell_type(i, j, dim)\n",
    "    \n",
    "    if not s_dash_dir:\n",
    "        return 0\n",
    "    \n",
    "    elif s_dash_dir == a:\n",
    "        return 1 - w + w/4\n",
    "        \n",
    "    elif s_dash_dir in A:\n",
    "        return w/4\n",
    "         \n",
    "    \n",
    "    elif (i, j) != (i_d, j_d):\n",
    "        return 0\n",
    "    \n",
    "    \n",
    "    elif cell_type == 'corner':\n",
    "        if chk_corner_dir(i, j, a, dim):\n",
    "            return 1 - w + w/4 + w/4\n",
    "        else:\n",
    "            return w/4 + w/4\n",
    "            \n",
    "    \n",
    "    elif cell_type == 'edge':\n",
    "        if chk_edge_dir(i, j, a, dim):\n",
    "            return 1 - w + w/4\n",
    "        else:\n",
    "            return w/4\n",
    "            \n",
    "    elif cell_type == 'non-boundary':\n",
    "        return 0  \n",
    "\n",
    "    return 0"
   ]
  },
  {
   "cell_type": "code",
   "execution_count": 526,
   "metadata": {},
   "outputs": [],
   "source": [
    "def get_optimal_state_value_fn(reward_fn, S, A, gamma, eps, state_space, w):\n",
    "    \n",
    "    #initialization\n",
    "    V = np.zeros(state_space.shape)\n",
    "        \n",
    "    #estimation\n",
    "    delta = float(\"inf\")\n",
    "    \n",
    "    while delta > eps:\n",
    "\n",
    "        delta = 0\n",
    "        \n",
    "        for s in S:\n",
    "            s_index = pos(s, state_space)\n",
    "            v = V[s_index]\n",
    "            action_results = get_action_results(A, s, S, state_space, w, reward_fn, gamma, V)\n",
    "            V[s_index] = max(action_results.values())\n",
    "            delta = max(delta, np.fabs(v - V[s_index]))\n",
    "            \n",
    "    return V   "
   ]
  },
  {
   "cell_type": "code",
   "execution_count": 527,
   "metadata": {},
   "outputs": [],
   "source": [
    "def get_optimal_policy(reward_fn, S, A, gamma, state_space, w, V):\n",
    "    \n",
    "    #computation\n",
    "    policy = np.zeros(state_space.shape, dtype = 'object')\n",
    "    \n",
    "    for s in S:\n",
    "        action_results = get_action_results(A, s, S, state_space, w, reward_fn, gamma, V)\n",
    "        policy[pos(s, state_space)] = arrows[max(action_results, key = action_results.get)]\n",
    "        \n",
    "    return policy"
   ]
  },
  {
   "cell_type": "code",
   "execution_count": 528,
   "metadata": {},
   "outputs": [],
   "source": [
    "reward_fn_dim = 10"
   ]
  },
  {
   "cell_type": "code",
   "execution_count": 529,
   "metadata": {},
   "outputs": [],
   "source": [
    "reward_fn1 = np.zeros((reward_fn_dim,reward_fn_dim))\n",
    "reward_fn1[reward_fn_dim -1 , reward_fn_dim -1] = 1.0"
   ]
  },
  {
   "cell_type": "code",
   "execution_count": 530,
   "metadata": {},
   "outputs": [],
   "source": [
    "reward_fn2 = np.zeros((reward_fn_dim,reward_fn_dim))\n",
    "negative_reward_indices = [(1,4), (1,5), (1,6),\n",
    "                          (2,4), (2,6),\n",
    "                          (3,4), (3,6), (3,7), (3,8),\n",
    "                          (4,4), (4,8),\n",
    "                          (5,4), (5,8),\n",
    "                          (6,4), (6,8),\n",
    "                          (7,6), (7,7), (7,8),\n",
    "                          (8,6)]\n",
    "\n",
    "for index in negative_reward_indices:\n",
    "    reward_fn2[index] = -100.0\n",
    "    \n",
    "reward_fn2[reward_fn_dim - 1, reward_fn_dim - 1] = 10.0"
   ]
  },
  {
   "cell_type": "markdown",
   "metadata": {},
   "source": [
    "<h2>Question 1</h2>"
   ]
  },
  {
   "cell_type": "code",
   "execution_count": 531,
   "metadata": {},
   "outputs": [
    {
     "name": "stdout",
     "output_type": "stream",
     "text": [
      "Heat map of reward function 1\n"
     ]
    },
    {
     "data": {
      "image/png": "[encoded data removed]",
      "text/plain": [
       "<matplotlib.figure.Figure at 0x29d583b29e8>"
      ]
     },
     "metadata": {},
     "output_type": "display_data"
    }
   ],
   "source": [
    "print(\"Heat map of reward function 1\")\n",
    "plt.pcolor(np.flipud(reward_fn1), edgecolors = 'white', cmap = 'magma')\n",
    "plt.colorbar()\n",
    "plt.show()"
   ]
  },
  {
   "cell_type": "code",
   "execution_count": 532,
   "metadata": {},
   "outputs": [
    {
     "name": "stdout",
     "output_type": "stream",
     "text": [
      "Heat map of reward function 2\n"
     ]
    },
    {
     "data": {
      "image/png": "[encoded data removed]",
      "text/plain": [
       "<matplotlib.figure.Figure at 0x29d58415b00>"
      ]
     },
     "metadata": {},
     "output_type": "display_data"
    }
   ],
   "source": [
    "print(\"Heat map of reward function 2\")\n",
    "plt.pcolor(np.flipud(reward_fn2), edgecolors = 'white', cmap = 'magma')\n",
    "plt.colorbar()\n",
    "plt.show()"
   ]
  },
  {
   "cell_type": "markdown",
   "metadata": {},
   "source": [
    "<h2>Question 2</h2>"
   ]
  },
  {
   "cell_type": "code",
   "execution_count": 533,
   "metadata": {},
   "outputs": [],
   "source": [
    "S = range(0, 100)\n",
    "state_space = np.transpose(np.array(S).reshape(10,10))\n",
    "A = ['U', 'D', 'L', 'R']\n",
    "arrows = {'U' : u'\\u2191', 'D' : u'\\u2193', 'L' : u'\\u2190', 'R' : u'\\u2192'}\n",
    "num_states = 100\n",
    "w = 0.1\n",
    "gamma = 0.8\n",
    "P = {}"
   ]
  },
  {
   "cell_type": "markdown",
   "metadata": {},
   "source": [
    "<h2> Question 2 </h2>"
   ]
  },
  {
   "cell_type": "code",
   "execution_count": 536,
   "metadata": {},
   "outputs": [],
   "source": [
    "optimal_state_values_r1 = get_optimal_state_value_fn(reward_fn1, S, A, gamma, 0.01, state_space, w)"
   ]
  },
  {
   "cell_type": "code",
   "execution_count": 537,
   "metadata": {},
   "outputs": [
    {
     "data": {
      "text/plain": [
       "<matplotlib.axes._subplots.AxesSubplot at 0x29d58536518>"
      ]
     },
     "execution_count": 537,
     "metadata": {},
     "output_type": "execute_result"
    },
    {
     "data": {
      "image/png": "[encoded data removed]",
      "text/plain": [
       "<matplotlib.figure.Figure at 0x29d58535c88>"
      ]
     },
     "metadata": {},
     "output_type": "display_data"
    }
   ],
   "source": [
    "sns.heatmap(state_space, annot=optimal_state_values_r1, fmt='.2f', cbar = False, \n",
    "            cmap=ListedColormap(['white']))"
   ]
  },
  {
   "cell_type": "markdown",
   "metadata": {},
   "source": [
    "<h2> Question 3 </h2>"
   ]
  },
  {
   "cell_type": "code",
   "execution_count": 538,
   "metadata": {},
   "outputs": [
    {
     "name": "stdout",
     "output_type": "stream",
     "text": [
      "Heat map of Optimal State Values for reward 1\n"
     ]
    },
    {
     "data": {
      "image/png": "[encoded data removed]",
      "text/plain": [
       "<matplotlib.figure.Figure at 0x29d58455320>"
      ]
     },
     "metadata": {},
     "output_type": "display_data"
    }
   ],
   "source": [
    "print(\"Heat map of Optimal State Values for reward 1\")\n",
    "plt.pcolor(np.flipud(optimal_state_values_r1), edgecolors = 'white', cmap = 'hot')\n",
    "plt.colorbar()\n",
    "plt.show()"
   ]
  },
  {
   "cell_type": "markdown",
   "metadata": {},
   "source": [
    "<h2>Question 5</h2>"
   ]
  },
  {
   "cell_type": "code",
   "execution_count": 539,
   "metadata": {},
   "outputs": [],
   "source": [
    "optimal_policy_r1 = get_optimal_policy(reward_fn1, S, A, gamma, state_space, w, optimal_state_values_r1)"
   ]
  },
  {
   "cell_type": "code",
   "execution_count": 540,
   "metadata": {},
   "outputs": [
    {
     "data": {
      "text/plain": [
       "<matplotlib.axes._subplots.AxesSubplot at 0x29d586cfda0>"
      ]
     },
     "execution_count": 540,
     "metadata": {},
     "output_type": "execute_result"
    },
    {
     "data": {
      "image/png": "[encoded data removed]",
      "text/plain": [
       "<matplotlib.figure.Figure at 0x29d586cf630>"
      ]
     },
     "metadata": {},
     "output_type": "display_data"
    }
   ],
   "source": [
    "sns.heatmap(state_space, annot=optimal_policy_r1, fmt='', cbar = False, \n",
    "            cmap=ListedColormap(['white']))"
   ]
  },
  {
   "cell_type": "markdown",
   "metadata": {},
   "source": [
    "<h2> Question 6 </h2>"
   ]
  },
  {
   "cell_type": "code",
   "execution_count": 541,
   "metadata": {},
   "outputs": [],
   "source": [
    "optimal_state_values_r2 = get_optimal_state_value_fn(reward_fn2, S, A, gamma, 0.01, state_space, w)"
   ]
  },
  {
   "cell_type": "code",
   "execution_count": 542,
   "metadata": {},
   "outputs": [
    {
     "data": {
      "text/plain": [
       "<matplotlib.axes._subplots.AxesSubplot at 0x29d587c2278>"
      ]
     },
     "execution_count": 542,
     "metadata": {},
     "output_type": "execute_result"
    },
    {
     "data": {
      "image/png": "[encoded data removed]",
      "text/plain": [
       "<matplotlib.figure.Figure at 0x29d586ce6d8>"
      ]
     },
     "metadata": {},
     "output_type": "display_data"
    }
   ],
   "source": [
    "sns.heatmap(state_space, annot=optimal_state_values_r2, fmt='.2f', cbar = False, \n",
    "            cmap=ListedColormap(['white']))"
   ]
  },
  {
   "cell_type": "markdown",
   "metadata": {},
   "source": [
    "<h2> Question 7 </h2>"
   ]
  },
  {
   "cell_type": "code",
   "execution_count": 543,
   "metadata": {},
   "outputs": [
    {
     "name": "stdout",
     "output_type": "stream",
     "text": [
      "Heat map of Optimal State Values for reward 2\n"
     ]
    },
    {
     "data": {
      "image/png": "[encoded data removed]",
      "text/plain": [
       "<matplotlib.figure.Figure at 0x29d586cf860>"
      ]
     },
     "metadata": {},
     "output_type": "display_data"
    }
   ],
   "source": [
    "print(\"Heat map of Optimal State Values for reward 2\")\n",
    "plt.pcolor(np.flipud(optimal_state_values_r2), cmap = 'hot')\n",
    "plt.colorbar()\n",
    "plt.show()"
   ]
  },
  {
   "cell_type": "markdown",
   "metadata": {},
   "source": [
    "<h2> Question 9 </h2>"
   ]
  },
  {
   "cell_type": "code",
   "execution_count": 544,
   "metadata": {},
   "outputs": [],
   "source": [
    "optimal_policy_r2 = get_optimal_policy(reward_fn2, S, A, gamma, state_space, w, optimal_state_values_r2)"
   ]
  },
  {
   "cell_type": "code",
   "execution_count": 545,
   "metadata": {},
   "outputs": [
    {
     "data": {
      "text/plain": [
       "<matplotlib.axes._subplots.AxesSubplot at 0x29d589576a0>"
      ]
     },
     "execution_count": 545,
     "metadata": {},
     "output_type": "execute_result"
    },
    {
     "data": {
      "image/png": "[encoded data removed]",
      "text/plain": [
       "<matplotlib.figure.Figure at 0x29d58957048>"
      ]
     },
     "metadata": {},
     "output_type": "display_data"
    }
   ],
   "source": [
    "sns.heatmap(state_space, annot=optimal_policy_r2, fmt='', cbar = False, \n",
    "            cmap=ListedColormap(['white']))"
   ]
  }
 ],
 "metadata": {
  "kernelspec": {
   "display_name": "Python 3",
   "language": "python",
   "name": "python3"
  },
  "language_info": {
   "codemirror_mode": {
    "name": "ipython",
    "version": 3
   },
   "file_extension": ".py",
   "mimetype": "text/x-python",
   "name": "python",
   "nbconvert_exporter": "python",
   "pygments_lexer": "ipython3",
   "version": "3.6.3"
  }
 },
 "nbformat": 4,
 "nbformat_minor": 2
}
