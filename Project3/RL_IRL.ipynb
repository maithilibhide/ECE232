{
 "cells": [
  {
   "cell_type": "code",
   "execution_count": 67,
   "metadata": {},
   "outputs": [],
   "source": [
    "import numpy as np\n",
    "import seaborn as sns\n",
    "import matplotlib.pyplot as plt\n",
    "from matplotlib.colors import ListedColormap\n",
    "from cvxopt import matrix, solvers"
   ]
  },
  {
   "cell_type": "code",
   "execution_count": 68,
   "metadata": {},
   "outputs": [],
   "source": [
    "def pos(s, state_space):\n",
    "    return tuple(zip(*np.where(state_space == s)))[0]"
   ]
  },
  {
   "cell_type": "code",
   "execution_count": 69,
   "metadata": {},
   "outputs": [],
   "source": [
    "def get_reward(reward_fn, s, state_space):\n",
    "    return reward_fn[pos(s, state_space)]"
   ]
  },
  {
   "cell_type": "code",
   "execution_count": 70,
   "metadata": {},
   "outputs": [],
   "source": [
    "def get_neighbors(s, state_space):\n",
    "    \n",
    "    dim = state_space.shape[0]\n",
    "    i, j = pos(s, state_space)\n",
    "    neighbors = [state_space[i][j]]\n",
    "    \n",
    "    if i-1 >= 0: neighbors.append(state_space[i-1][j])\n",
    "    if i+1 < dim: neighbors.append(state_space[i+1][j])\n",
    "    if j-1 >= 0: neighbors.append(state_space[i][j-1])\n",
    "    if j+1 < dim: neighbors.append(state_space[i][j+1])\n",
    "        \n",
    "    return neighbors"
   ]
  },
  {
   "cell_type": "code",
   "execution_count": 71,
   "metadata": {},
   "outputs": [],
   "source": [
    "def get_cell_type(i, j, dim):\n",
    "    \n",
    "    if (i,j) in [(0, 0), (0, dim), (dim, 0), (dim, dim)]:\n",
    "        return 'corner'\n",
    "    \n",
    "    elif i == 0 or j == 0 or i == dim or j == dim:\n",
    "        return 'edge'\n",
    "    \n",
    "    else:\n",
    "        return 'non-boundary'"
   ]
  },
  {
   "cell_type": "code",
   "execution_count": 72,
   "metadata": {},
   "outputs": [],
   "source": [
    "def get_action_results(A, s, S, state_space, w, reward_fn, gamma, V):\n",
    "    \n",
    "    action_results = {}\n",
    "    for a in A:\n",
    "        action_results[a] = 0\n",
    "        neighbors = get_neighbors(s, state_space)\n",
    "        for s_dash in neighbors:\n",
    "            p = get_transition_probability(state_space, s, s_dash, a, w, A)\n",
    "            r = get_reward(reward_fn, s_dash, state_space)\n",
    "            action_results[a] += p * (r + gamma * V[pos(s_dash, state_space)])\n",
    "\n",
    "    return action_results"
   ]
  },
  {
   "cell_type": "code",
   "execution_count": 73,
   "metadata": {},
   "outputs": [],
   "source": [
    "def get_relation(i, j, i_d, j_d):\n",
    "    \n",
    "    if i == i_d:\n",
    "        if j_d == j-1: \n",
    "            return 'L'\n",
    "        elif j_d == j+1:\n",
    "            return 'R'\n",
    "        \n",
    "        elif j_d == j:\n",
    "            return 'S'\n",
    "   \n",
    "    elif j == j_d:\n",
    "        if i_d == i-1:\n",
    "            return 'U'\n",
    "        elif i_d == i+1:\n",
    "            return 'D'"
   ]
  },
  {
   "cell_type": "code",
   "execution_count": 74,
   "metadata": {},
   "outputs": [],
   "source": [
    "def chk_edge_dir(i, j, a, n):\n",
    "    return (i, a) in [(0, 'U'), (n, 'D')] or (j, a) in [(0, 'L'), (n, 'R')]\n",
    "\n",
    "def chk_corner_dir(i, j, a, n):\n",
    "    return (i, j, a) in [(0, 0, 'L'), (0, 0, 'U'),\n",
    "                        (0, n, 'R'), (0, n, 'U'),\n",
    "                        (n, 0, 'D'), (n, 0, 'L'),\n",
    "                        (n, n, 'D'), (n, n, 'R')]"
   ]
  },
  {
   "cell_type": "code",
   "execution_count": 75,
   "metadata": {},
   "outputs": [],
   "source": [
    "def get_transition_probability(state_space, s, s_dash, a, w, A):\n",
    "    \n",
    "    \n",
    "    dim = state_space.shape[0] - 1\n",
    "    \n",
    "    i, j = pos(s, state_space)\n",
    "    i_d, j_d = pos(s_dash, state_space)\n",
    "    \n",
    "    \n",
    "    s_dash_dir = get_relation(i, j, i_d, j_d)\n",
    "    cell_type = get_cell_type(i, j, dim)\n",
    "    \n",
    "    if not s_dash_dir:\n",
    "        return 0\n",
    "    \n",
    "    elif s_dash_dir == a:\n",
    "        return 1 - w + w/4\n",
    "        \n",
    "    elif s_dash_dir in A:\n",
    "        return w/4\n",
    "         \n",
    "    \n",
    "    elif (i, j) != (i_d, j_d):\n",
    "        return 0\n",
    "    \n",
    "    \n",
    "    elif cell_type == 'corner':\n",
    "        if chk_corner_dir(i, j, a, dim):\n",
    "            return 1 - w + w/4 + w/4\n",
    "        else:\n",
    "            return w/4 + w/4\n",
    "            \n",
    "    \n",
    "    elif cell_type == 'edge':\n",
    "        if chk_edge_dir(i, j, a, dim):\n",
    "            return 1 - w + w/4\n",
    "        else:\n",
    "            return w/4\n",
    "            \n",
    "    elif cell_type == 'non-boundary':\n",
    "        return 0  \n",
    "\n",
    "    return 0"
   ]
  },
  {
   "cell_type": "code",
   "execution_count": 76,
   "metadata": {},
   "outputs": [],
   "source": [
    "def get_optimal_state_value_fn(reward_fn, S, A, gamma, eps, state_space, w):\n",
    "    \n",
    "    #initialization\n",
    "    V = np.zeros(state_space.shape)\n",
    "        \n",
    "    #estimation\n",
    "    delta = float(\"inf\")\n",
    "    \n",
    "    while delta > eps:\n",
    "\n",
    "        delta = 0\n",
    "        \n",
    "        for s in S:\n",
    "            s_index = pos(s, state_space)\n",
    "            v = V[s_index]\n",
    "            action_results = get_action_results(A, s, S, state_space, w, reward_fn, gamma, V)\n",
    "            V[s_index] = max(action_results.values())\n",
    "            delta = max(delta, np.fabs(v - V[s_index]))\n",
    "            \n",
    "    return V   "
   ]
  },
  {
   "cell_type": "code",
   "execution_count": 77,
   "metadata": {},
   "outputs": [],
   "source": [
    "def get_optimal_policy(reward_fn, S, A, gamma, state_space, w, V):\n",
    "    \n",
    "    #computation\n",
    "    policy = np.zeros(state_space.shape, dtype = 'object')\n",
    "    \n",
    "    for s in S:\n",
    "        action_results = get_action_results(A, s, S, state_space, w, reward_fn, gamma, V)\n",
    "        policy[pos(s, state_space)] = arrows[max(action_results, key = action_results.get)]\n",
    "        \n",
    "    return policy"
   ]
  },
  {
   "cell_type": "code",
   "execution_count": 78,
   "metadata": {},
   "outputs": [],
   "source": [
    "reward_fn_dim = 10"
   ]
  },
  {
   "cell_type": "code",
   "execution_count": 13,
   "metadata": {},
   "outputs": [],
   "source": [
    "reward_fn1 = np.zeros((reward_fn_dim,reward_fn_dim))\n",
    "reward_fn1[reward_fn_dim -1 , reward_fn_dim -1] = 1.0"
   ]
  },
  {
   "cell_type": "code",
   "execution_count": 79,
   "metadata": {},
   "outputs": [],
   "source": [
    "reward_fn2 = np.zeros((reward_fn_dim,reward_fn_dim))\n",
    "negative_reward_indices = [(1,4), (1,5), (1,6),\n",
    "                          (2,4), (2,6),\n",
    "                          (3,4), (3,6), (3,7), (3,8),\n",
    "                          (4,4), (4,8),\n",
    "                          (5,4), (5,8),\n",
    "                          (6,4), (6,8),\n",
    "                          (7,6), (7,7), (7,8),\n",
    "                          (8,6)]\n",
    "\n",
    "for index in negative_reward_indices:\n",
    "    reward_fn2[index] = -100.0\n",
    "    \n",
    "reward_fn2[reward_fn_dim - 1, reward_fn_dim - 1] = 10.0"
   ]
  },
  {
   "cell_type": "markdown",
   "metadata": {},
   "source": [
    "<h2>Question 1</h2>"
   ]
  },
  {
   "cell_type": "code",
   "execution_count": 15,
   "metadata": {},
   "outputs": [
    {
     "name": "stdout",
     "output_type": "stream",
     "text": [
      "Heat map of reward function 1\n"
     ]
    },
    {
     "data": {
      "image/png": "[encoded data removed]",
      "text/plain": [
       "<matplotlib.figure.Figure at 0x17429324240>"
      ]
     },
     "metadata": {},
     "output_type": "display_data"
    }
   ],
   "source": [
    "print(\"Heat map of reward function 1\")\n",
    "plt.pcolor(np.flipud(reward_fn1), edgecolors = 'white', cmap = 'magma')\n",
    "plt.colorbar()\n",
    "plt.show()"
   ]
  },
  {
   "cell_type": "code",
   "execution_count": 16,
   "metadata": {},
   "outputs": [
    {
     "name": "stdout",
     "output_type": "stream",
     "text": [
      "Heat map of reward function 2\n"
     ]
    },
    {
     "data": {
      "image/png": "[encoded data removed]",
      "text/plain": [
       "<matplotlib.figure.Figure at 0x17429316390>"
      ]
     },
     "metadata": {},
     "output_type": "display_data"
    }
   ],
   "source": [
    "print(\"Heat map of reward function 2\")\n",
    "plt.pcolor(np.flipud(reward_fn2), edgecolors = 'white', cmap = 'magma')\n",
    "plt.colorbar()\n",
    "plt.show()"
   ]
  },
  {
   "cell_type": "code",
   "execution_count": 17,
   "metadata": {},
   "outputs": [],
   "source": [
    "S = range(0, 100)\n",
    "state_space = np.transpose(np.array(S).reshape(10,10))\n",
    "A = ['U', 'D', 'L', 'R']\n",
    "arrows = {'U' : u'\\u2191', 'D' : u'\\u2193', 'L' : u'\\u2190', 'R' : u'\\u2192'}\n",
    "num_states = 100\n",
    "w = 0.1\n",
    "gamma = 0.8\n",
    "P = {}"
   ]
  },
  {
   "cell_type": "markdown",
   "metadata": {},
   "source": [
    "<h2> Question 2 </h2>"
   ]
  },
  {
   "cell_type": "code",
   "execution_count": 18,
   "metadata": {},
   "outputs": [],
   "source": [
    "optimal_state_values_r1 = get_optimal_state_value_fn(reward_fn1, S, A, gamma, 0.01, state_space, w)"
   ]
  },
  {
   "cell_type": "code",
   "execution_count": 19,
   "metadata": {},
   "outputs": [
    {
     "data": {
      "text/plain": [
       "<matplotlib.axes._subplots.AxesSubplot at 0x1742c4e3780>"
      ]
     },
     "execution_count": 19,
     "metadata": {},
     "output_type": "execute_result"
    },
    {
     "data": {
      "image/png": "[encoded data removed]",
      "text/plain": [
       "<matplotlib.figure.Figure at 0x1742c4dcf60>"
      ]
     },
     "metadata": {},
     "output_type": "display_data"
    }
   ],
   "source": [
    "sns.heatmap(state_space, annot=optimal_state_values_r1, fmt='.2f', cbar = False, \n",
    "            cmap=ListedColormap(['white']))"
   ]
  },
  {
   "cell_type": "markdown",
   "metadata": {},
   "source": [
    "<h2> Question 3 </h2>"
   ]
  },
  {
   "cell_type": "code",
   "execution_count": 20,
   "metadata": {},
   "outputs": [
    {
     "name": "stdout",
     "output_type": "stream",
     "text": [
      "Heat map of Optimal State Values for reward 1\n"
     ]
    },
    {
     "data": {
      "image/png": "[encoded data removed]",
      "text/plain": [
       "<matplotlib.figure.Figure at 0x1742c4b8978>"
      ]
     },
     "metadata": {},
     "output_type": "display_data"
    }
   ],
   "source": [
    "print(\"Heat map of Optimal State Values for reward 1\")\n",
    "plt.pcolor(np.flipud(optimal_state_values_r1), edgecolors = 'white', cmap = 'hot')\n",
    "plt.colorbar()\n",
    "plt.show()"
   ]
  },
  {
   "cell_type": "markdown",
   "metadata": {},
   "source": [
    "<h2>Question 5</h2>"
   ]
  },
  {
   "cell_type": "code",
   "execution_count": 21,
   "metadata": {},
   "outputs": [],
   "source": [
    "optimal_policy_r1 = get_optimal_policy(reward_fn1, S, A, gamma, state_space, w, optimal_state_values_r1)"
   ]
  },
  {
   "cell_type": "code",
   "execution_count": 22,
   "metadata": {},
   "outputs": [
    {
     "data": {
      "text/plain": [
       "<matplotlib.axes._subplots.AxesSubplot at 0x1742c6894e0>"
      ]
     },
     "execution_count": 22,
     "metadata": {},
     "output_type": "execute_result"
    },
    {
     "data": {
      "image/png": "[encoded data removed]",
      "text/plain": [
       "<matplotlib.figure.Figure at 0x1742c683f98>"
      ]
     },
     "metadata": {},
     "output_type": "display_data"
    }
   ],
   "source": [
    "sns.heatmap(state_space, annot=optimal_policy_r1, fmt='', cbar = False, \n",
    "            cmap=ListedColormap(['white']))"
   ]
  },
  {
   "cell_type": "markdown",
   "metadata": {},
   "source": [
    "<h2> Question 6 </h2>"
   ]
  },
  {
   "cell_type": "code",
   "execution_count": 80,
   "metadata": {},
   "outputs": [],
   "source": [
    "optimal_state_values_r2 = get_optimal_state_value_fn(reward_fn2, S, A, gamma, 0.01, state_space, w)"
   ]
  },
  {
   "cell_type": "code",
   "execution_count": 81,
   "metadata": {},
   "outputs": [
    {
     "data": {
      "text/plain": [
       "<matplotlib.axes._subplots.AxesSubplot at 0x1742cd95be0>"
      ]
     },
     "execution_count": 81,
     "metadata": {},
     "output_type": "execute_result"
    },
    {
     "data": {
      "image/png": "[encoded data removed]",
      "text/plain": [
       "<matplotlib.figure.Figure at 0x1742cd95668>"
      ]
     },
     "metadata": {},
     "output_type": "display_data"
    }
   ],
   "source": [
    "sns.heatmap(state_space, annot=optimal_state_values_r2, fmt='.2f', cbar = False, \n",
    "            cmap=ListedColormap(['white']))"
   ]
  },
  {
   "cell_type": "markdown",
   "metadata": {},
   "source": [
    "<h2> Question 7 </h2>"
   ]
  },
  {
   "cell_type": "code",
   "execution_count": 82,
   "metadata": {},
   "outputs": [
    {
     "name": "stdout",
     "output_type": "stream",
     "text": [
      "Heat map of Optimal State Values for reward 2\n"
     ]
    },
    {
     "data": {
      "image/png": "[encoded data removed]",
      "text/plain": [
       "<matplotlib.figure.Figure at 0x1742c664048>"
      ]
     },
     "metadata": {},
     "output_type": "display_data"
    }
   ],
   "source": [
    "print(\"Heat map of Optimal State Values for reward 2\")\n",
    "plt.pcolor(np.flipud(optimal_state_values_r2), cmap = 'hot')\n",
    "plt.colorbar()\n",
    "plt.show()"
   ]
  },
  {
   "cell_type": "markdown",
   "metadata": {},
   "source": [
    "<h2> Question 9 </h2>"
   ]
  },
  {
   "cell_type": "code",
   "execution_count": 83,
   "metadata": {},
   "outputs": [],
   "source": [
    "optimal_policy_r2 = get_optimal_policy(reward_fn2, S, A, gamma, state_space, w, optimal_state_values_r2)"
   ]
  },
  {
   "cell_type": "code",
   "execution_count": 84,
   "metadata": {},
   "outputs": [
    {
     "data": {
      "text/plain": [
       "<matplotlib.axes._subplots.AxesSubplot at 0x1742b4130b8>"
      ]
     },
     "execution_count": 84,
     "metadata": {},
     "output_type": "execute_result"
    },
    {
     "data": {
      "image/png": "[encoded data removed]",
      "text/plain": [
       "<matplotlib.figure.Figure at 0x1742cb4fa20>"
      ]
     },
     "metadata": {},
     "output_type": "display_data"
    }
   ],
   "source": [
    "sns.heatmap(state_space, annot=optimal_policy_r2, fmt='', cbar = False, \n",
    "            cmap=ListedColormap(['white']))"
   ]
  },
  {
   "cell_type": "markdown",
   "metadata": {},
   "source": [
    "<h2> Inverse Reinforcement Learning </h2>"
   ]
  },
  {
   "cell_type": "code",
   "execution_count": 85,
   "metadata": {},
   "outputs": [],
   "source": [
    "def get_irl_trans_prob(state_space, A, S, w):\n",
    "\n",
    "    Pa = {}\n",
    "    dim = state_space.shape[0] * state_space.shape[1]\n",
    "\n",
    "    for a in A:\n",
    "\n",
    "        Pa[arrows[a]] = np.zeros((dim, dim))\n",
    "\n",
    "        for i in S:\n",
    "            for j in S:\n",
    "                Pa[arrows[a]][i,j] = get_transition_probability(state_space, i, j, a, w, A)\n",
    "                \n",
    "    return Pa"
   ]
  },
  {
   "cell_type": "code",
   "execution_count": 86,
   "metadata": {},
   "outputs": [],
   "source": [
    "def get_irl_opt_trans_prob(state_space, S, Pa, ground_truth_opt_policy):\n",
    "\n",
    "    dim = state_space.shape[0] * state_space.shape[1]\n",
    "    Pa1 = np.zeros((dim, dim))  \n",
    "    state_optimal_dir = {}\n",
    "\n",
    "    for i in S:\n",
    "        state_optimal_dir[i] = ground_truth_opt_policy[pos(i, state_space)]\n",
    "        for j in S:\n",
    "            Pa1[i,j] = Pa[state_optimal_dir[i]][i, j]\n",
    "            \n",
    "    return Pa1, state_optimal_dir"
   ]
  },
  {
   "cell_type": "code",
   "execution_count": 87,
   "metadata": {},
   "outputs": [],
   "source": [
    "def get_P_IP(S, state_optimal_dir, Pa1, Pa, gamma):\n",
    "\n",
    "    dim = state_space.shape[0] * state_space.shape[1]\n",
    "    P = np.empty((0, dim))\n",
    "    I_P = np.empty((0, dim))\n",
    "\n",
    "\n",
    "    for i in S:\n",
    "        for a in set(arrows.values()) - set(state_optimal_dir[i]):\n",
    "            Q = - np.dot((Pa1[i, :] - Pa[a][i, :]), np.linalg.inv(np.identity(dim) - gamma*Pa1))\n",
    "            P = np.row_stack((P, Q))\n",
    "\n",
    "            identity = np.zeros((1, dim))\n",
    "            identity[0][i] = 1\n",
    "            I_P = np.row_stack((I_P, identity))\n",
    "    \n",
    "    return P, I_P"
   ]
  },
  {
   "cell_type": "code",
   "execution_count": 88,
   "metadata": {},
   "outputs": [],
   "source": [
    "def get_lp_params(A, state_space, Rmax, P, I_P, lam):\n",
    "    \n",
    "    Dcol = len(A) - 1\n",
    "    dim = state_space.shape[0] * state_space.shape[1]\n",
    "    \n",
    "    Rmax_vec = np.repeat(Rmax, dim).reshape((dim, 1))\n",
    "    \n",
    "    D = np.empty((0, dim*Dcol))\n",
    "    B = np.empty((0, 1))\n",
    "    I = np.identity(dim)\n",
    "    O = np.zeros((dim, dim))\n",
    "    OB = np.zeros((dim, 1))\n",
    "    O_P = np.zeros(P.shape)\n",
    "    O_B = np.zeros((300, 1))\n",
    "\n",
    "    D = np.row_stack((D, np.column_stack((P, I_P, O_P))))\n",
    "    B = np.row_stack((B, O_B))\n",
    "    D = np.row_stack((D, np.column_stack((P, O_P, O_P))))\n",
    "    B = np.row_stack((B, O_B))\n",
    "\n",
    "    D = np.row_stack((D, np.column_stack((-I, O, -I))))\n",
    "    B = np.row_stack((B, OB))\n",
    "    D = np.row_stack((D, np.column_stack((I, O, -I))))\n",
    "    B = np.row_stack((B, OB))\n",
    "    D = np.row_stack((D, np.column_stack((I, O, O))))\n",
    "    B = np.row_stack((B, Rmax_vec))\n",
    "    D = np.row_stack((D, np.column_stack((-I, O, O))))\n",
    "    B = np.row_stack((B, Rmax_vec))\n",
    "\n",
    "    Crow = (dim, 1)\n",
    "    C = np.row_stack((np.zeros(Crow), np.ones(Crow), -lam*np.ones(Crow)))   \n",
    "\n",
    "    C = matrix(C)\n",
    "    D = matrix(D)\n",
    "    B = matrix(B)\n",
    "    \n",
    "    return B, C, D"
   ]
  },
  {
   "cell_type": "code",
   "execution_count": 89,
   "metadata": {},
   "outputs": [],
   "source": [
    "def irl(reward_fn, ground_truth_opt_policy, A, S, w, lam_list, gamma = 0.8):\n",
    "    \n",
    "    Rmax = np.max(reward_fn)\n",
    "    Pa = get_irl_trans_prob(state_space, A, S, w)\n",
    "    Pa1, state_optimal_dir = get_irl_opt_trans_prob(state_space, S, Pa, ground_truth_opt_policy)\n",
    "    \n",
    "    P, I_P = get_P_IP(S, state_optimal_dir, Pa1, Pa, gamma)\n",
    "    \n",
    "\n",
    "    lam_vs_acc = []\n",
    "    for lam in lam_list:\n",
    "    \n",
    "        extracted_reward_fn = np.array(extract_reward_fn(A, state_space, Rmax, P, I_P, lam))\n",
    "\n",
    "        V = get_optimal_state_value_fn(extracted_reward_fn, S, A, gamma, 0.01, state_space, w)\n",
    "        OAS = get_optimal_policy(extracted_reward_fn, S, A, gamma, state_space, w, V)\n",
    "        OES = ground_truth_opt_policy\n",
    "        lam_vs_acc.append(np.sum(OAS == OES) / len(S))\n",
    "        \n",
    "    return lam_vs_acc, extracted_reward_fn"
   ]
  },
  {
   "cell_type": "code",
   "execution_count": 99,
   "metadata": {},
   "outputs": [],
   "source": [
    "def extract_reward_fn(A, state_space, Rmax, P, I_P, lam):\n",
    "    \n",
    "    B, C, D = get_lp_params(A, state_space, Rmax, P, I_P, lam)\n",
    "    solvers.options['show_progress'] = False\n",
    "    sol=solvers.lp(C,D,B)\n",
    "\n",
    "    extracted_reward_fn = sol['x'][:100]\n",
    "    extracted_reward_fn = np.matrix(extracted_reward_fn).reshape(10, 10).T\n",
    "    \n",
    "    return extracted_reward_fn"
   ]
  },
  {
   "cell_type": "markdown",
   "metadata": {},
   "source": [
    "<h2> Question 11 </h2>"
   ]
  },
  {
   "cell_type": "code",
   "execution_count": 118,
   "metadata": {},
   "outputs": [],
   "source": [
    "lambda_range = np.arange(0, 501) / 100\n",
    "lam_vs_acc, _ = irl(reward_fn1, optimal_policy_r1, A, S, w, lambda_range)\n",
    "lam_max_1 = lambda_range[np.argmax(lam_vs_acc)]"
   ]
  },
  {
   "cell_type": "code",
   "execution_count": 119,
   "metadata": {},
   "outputs": [
    {
     "data": {
      "image/png": "[encoded data removed]",
      "text/plain": [
       "<matplotlib.figure.Figure at 0x174301cccf8>"
      ]
     },
     "metadata": {},
     "output_type": "display_data"
    }
   ],
   "source": [
    "plt.plot(lambda_range, lam_vs_acc)\n",
    "plt.title(\"Lambda vs Accuracy for Reward Function 1\")\n",
    "plt.xlabel(\"Lambda\")\n",
    "plt.ylabel(\"Accuracy\")\n",
    "plt.show()"
   ]
  },
  {
   "cell_type": "markdown",
   "metadata": {},
   "source": [
    "<h2> Question 12 </h2>"
   ]
  },
  {
   "cell_type": "code",
   "execution_count": 120,
   "metadata": {},
   "outputs": [
    {
     "name": "stdout",
     "output_type": "stream",
     "text": [
      "The highest accuracy is  0.84\n",
      "The lambda value with highest accuracy is  0.62\n"
     ]
    }
   ],
   "source": [
    "print(\"The highest accuracy is \", np.max(lam_vs_acc))\n",
    "print(\"The lambda value with highest accuracy is \", lam_max_1)"
   ]
  },
  {
   "cell_type": "markdown",
   "metadata": {},
   "source": [
    "<h2> Question 13 </h2>"
   ]
  },
  {
   "cell_type": "code",
   "execution_count": 105,
   "metadata": {},
   "outputs": [],
   "source": [
    "_, extracted_reward_fn_1 = irl(reward_fn1, optimal_policy_r1, A, S, w, [lam_max_1])"
   ]
  },
  {
   "cell_type": "code",
   "execution_count": 106,
   "metadata": {},
   "outputs": [
    {
     "name": "stdout",
     "output_type": "stream",
     "text": [
      "Heat map of ground truth reward function 1\n"
     ]
    },
    {
     "data": {
      "image/png": "[encoded data removed]",
      "text/plain": [
       "<matplotlib.figure.Figure at 0x1742cfcd9e8>"
      ]
     },
     "metadata": {},
     "output_type": "display_data"
    }
   ],
   "source": [
    "print(\"Heat map of ground truth reward function 1\")\n",
    "plt.pcolor(np.flipud(reward_fn1), edgecolors = 'white', cmap = 'magma')\n",
    "plt.colorbar()\n",
    "plt.show()"
   ]
  },
  {
   "cell_type": "code",
   "execution_count": 107,
   "metadata": {},
   "outputs": [
    {
     "name": "stdout",
     "output_type": "stream",
     "text": [
      "Heat map of extracted reward function 1\n"
     ]
    },
    {
     "data": {
      "image/png": "[encoded data removed]",
      "text/plain": [
       "<matplotlib.figure.Figure at 0x1742cb9c4e0>"
      ]
     },
     "metadata": {},
     "output_type": "display_data"
    }
   ],
   "source": [
    "print(\"Heat map of extracted reward function 1\")\n",
    "plt.pcolor(np.flipud(extracted_reward_fn_1), edgecolors = 'white', cmap = 'magma')\n",
    "plt.colorbar()\n",
    "plt.show()"
   ]
  },
  {
   "cell_type": "markdown",
   "metadata": {},
   "source": [
    "<h2> Question 14 </h2>"
   ]
  },
  {
   "cell_type": "code",
   "execution_count": 108,
   "metadata": {},
   "outputs": [
    {
     "name": "stdout",
     "output_type": "stream",
     "text": [
      "Heat map of Optimal State Values for Extracted Reward Function 1\n"
     ]
    },
    {
     "data": {
      "image/png": "[encoded data removed]",
      "text/plain": [
       "<matplotlib.figure.Figure at 0x1742ce3ac18>"
      ]
     },
     "metadata": {},
     "output_type": "display_data"
    }
   ],
   "source": [
    "optimal_state_values_extracted_r1 = get_optimal_state_value_fn(extracted_reward_fn_1, S, A, gamma, 0.01, state_space, w)\n",
    "print(\"Heat map of Optimal State Values for Extracted Reward Function 1\")\n",
    "plt.pcolor(np.flipud(optimal_state_values_extracted_r1), edgecolors = 'white', cmap = 'hot')\n",
    "plt.colorbar()\n",
    "plt.show()"
   ]
  },
  {
   "cell_type": "markdown",
   "metadata": {},
   "source": [
    "<h2> Question 16 </h2>"
   ]
  },
  {
   "cell_type": "code",
   "execution_count": 109,
   "metadata": {},
   "outputs": [
    {
     "data": {
      "text/plain": [
       "<matplotlib.axes._subplots.AxesSubplot at 0x1742c43a278>"
      ]
     },
     "execution_count": 109,
     "metadata": {},
     "output_type": "execute_result"
    },
    {
     "data": {
      "image/png": "[encoded data removed]",
      "text/plain": [
       "<matplotlib.figure.Figure at 0x1742cb905f8>"
      ]
     },
     "metadata": {},
     "output_type": "display_data"
    }
   ],
   "source": [
    "optimal_policy_extracted_r1 = get_optimal_policy(extracted_reward_fn_1, S, A, gamma, state_space, w, \n",
    "                                                 optimal_state_values_extracted_r1)\n",
    "sns.heatmap(state_space, annot=optimal_policy_extracted_r1, fmt='', cbar = False, \n",
    "            cmap=ListedColormap(['white']))"
   ]
  },
  {
   "cell_type": "markdown",
   "metadata": {},
   "source": [
    "<h2> Question 18 </h2>"
   ]
  },
  {
   "cell_type": "code",
   "execution_count": 110,
   "metadata": {},
   "outputs": [],
   "source": [
    "lambda_range = np.arange(0, 501) / 100\n",
    "lam_vs_acc, _ = irl(reward_fn2, optimal_policy_r2, A, S, w, lambda_range)\n",
    "lam_max_2 = lambda_range[np.argmax(lam_vs_acc)]"
   ]
  },
  {
   "cell_type": "code",
   "execution_count": 111,
   "metadata": {},
   "outputs": [
    {
     "data": {
      "image/png": "[encoded data removed]",
      "text/plain": [
       "<matplotlib.figure.Figure at 0x1742cc61828>"
      ]
     },
     "metadata": {},
     "output_type": "display_data"
    }
   ],
   "source": [
    "plt.plot(lambda_range, lam_vs_acc)\n",
    "plt.title(\"Lambda vs Accuracy for Reward Function 2\")\n",
    "plt.xlabel(\"Lambda\")\n",
    "plt.ylabel(\"Accuracy\")\n",
    "plt.show()"
   ]
  },
  {
   "cell_type": "markdown",
   "metadata": {},
   "source": [
    "<h2> Question 19 </h2>"
   ]
  },
  {
   "cell_type": "code",
   "execution_count": 112,
   "metadata": {},
   "outputs": [
    {
     "name": "stdout",
     "output_type": "stream",
     "text": [
      "The highest accuracy is  0.86\n",
      "The lambda value with highest accuracy is  0.0\n"
     ]
    }
   ],
   "source": [
    "print(\"The highest accuracy is \", np.max(lam_vs_acc))\n",
    "print(\"The lambda value with highest accuracy is \", lam_max_2)"
   ]
  },
  {
   "cell_type": "markdown",
   "metadata": {},
   "source": [
    "<h2> Question 20 </h2>"
   ]
  },
  {
   "cell_type": "code",
   "execution_count": 113,
   "metadata": {},
   "outputs": [],
   "source": [
    "_, extracted_reward_fn_2 = irl(reward_fn2, optimal_policy_r2, A, S, w, [lam_max_2])"
   ]
  },
  {
   "cell_type": "code",
   "execution_count": 114,
   "metadata": {},
   "outputs": [
    {
     "name": "stdout",
     "output_type": "stream",
     "text": [
      "Heat map of ground truth reward function 2\n"
     ]
    },
    {
     "data": {
      "image/png": "[encoded data removed]",
      "text/plain": [
       "<matplotlib.figure.Figure at 0x1742b3a8588>"
      ]
     },
     "metadata": {},
     "output_type": "display_data"
    }
   ],
   "source": [
    "print(\"Heat map of ground truth reward function 2\")\n",
    "plt.pcolor(np.flipud(reward_fn2), edgecolors = 'white', cmap = 'magma')\n",
    "plt.colorbar()\n",
    "plt.show()"
   ]
  },
  {
   "cell_type": "code",
   "execution_count": 115,
   "metadata": {},
   "outputs": [
    {
     "name": "stdout",
     "output_type": "stream",
     "text": [
      "Heat map of extracted reward function 2\n"
     ]
    },
    {
     "data": {
      "image/png": "[encoded data removed]",
      "text/plain": [
       "<matplotlib.figure.Figure at 0x1742d042978>"
      ]
     },
     "metadata": {},
     "output_type": "display_data"
    }
   ],
   "source": [
    "print(\"Heat map of extracted reward function 2\")\n",
    "plt.pcolor(np.flipud(extracted_reward_fn_2), edgecolors = 'white', cmap = 'magma')\n",
    "plt.colorbar()\n",
    "plt.show()"
   ]
  },
  {
   "cell_type": "markdown",
   "metadata": {},
   "source": [
    "<h2> Question 21 </h2>"
   ]
  },
  {
   "cell_type": "code",
   "execution_count": 116,
   "metadata": {},
   "outputs": [
    {
     "name": "stdout",
     "output_type": "stream",
     "text": [
      "Heat map of Optimal State Values for Extracted Reward Function 2\n"
     ]
    },
    {
     "data": {
      "image/png": "[encoded data removed]",
      "text/plain": [
       "<matplotlib.figure.Figure at 0x1742c8cd080>"
      ]
     },
     "metadata": {},
     "output_type": "display_data"
    }
   ],
   "source": [
    "optimal_state_values_extracted_r2 = get_optimal_state_value_fn(extracted_reward_fn_2, S, A, gamma, 0.01, state_space, w)\n",
    "print(\"Heat map of Optimal State Values for Extracted Reward Function 2\")\n",
    "plt.pcolor(np.flipud(optimal_state_values_extracted_r2), edgecolors = 'white', cmap = 'hot')\n",
    "plt.colorbar()\n",
    "plt.show()"
   ]
  },
  {
   "cell_type": "markdown",
   "metadata": {},
   "source": [
    "<h2> Question 23 </h2>"
   ]
  },
  {
   "cell_type": "code",
   "execution_count": 117,
   "metadata": {},
   "outputs": [
    {
     "data": {
      "text/plain": [
       "<matplotlib.axes._subplots.AxesSubplot at 0x1743023b8d0>"
      ]
     },
     "execution_count": 117,
     "metadata": {},
     "output_type": "execute_result"
    },
    {
     "data": {
      "image/png": "[encoded data removed]",
      "text/plain": [
       "<matplotlib.figure.Figure at 0x17430147128>"
      ]
     },
     "metadata": {},
     "output_type": "display_data"
    }
   ],
   "source": [
    "optimal_policy_extracted_r2 = get_optimal_policy(extracted_reward_fn_2, S, A, gamma, state_space, w, \n",
    "                                                 optimal_state_values_extracted_r2)\n",
    "sns.heatmap(state_space, annot=optimal_policy_extracted_r2, fmt='', cbar = False, \n",
    "            cmap=ListedColormap(['white']))"
   ]
  }
 ],
 "metadata": {
  "kernelspec": {
   "display_name": "Python 3",
   "language": "python",
   "name": "python3"
  },
  "language_info": {
   "codemirror_mode": {
    "name": "ipython",
    "version": 3
   },
   "file_extension": ".py",
   "mimetype": "text/x-python",
   "name": "python",
   "nbconvert_exporter": "python",
   "pygments_lexer": "ipython3",
   "version": "3.6.3"
  }
 },
 "nbformat": 4,
 "nbformat_minor": 2
}
