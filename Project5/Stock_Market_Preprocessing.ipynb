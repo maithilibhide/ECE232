{
 "cells": [
  {
   "cell_type": "code",
   "execution_count": 3,
   "metadata": {},
   "outputs": [],
   "source": [
    "#library('igraph')\n",
    "import os\n",
    "import pandas as pd\n",
    "import numpy as np\n",
    "from collections import defaultdict"
   ]
  },
  {
   "cell_type": "code",
   "execution_count": 4,
   "metadata": {},
   "outputs": [
    {
     "data": {
      "text/html": [
       "<div>\n",
       "<style scoped>\n",
       "    .dataframe tbody tr th:only-of-type {\n",
       "        vertical-align: middle;\n",
       "    }\n",
       "\n",
       "    .dataframe tbody tr th {\n",
       "        vertical-align: top;\n",
       "    }\n",
       "\n",
       "    .dataframe thead th {\n",
       "        text-align: right;\n",
       "    }\n",
       "</style>\n",
       "<table border=\"1\" class=\"dataframe\">\n",
       "  <thead>\n",
       "    <tr style=\"text-align: right;\">\n",
       "      <th></th>\n",
       "      <th>Symbol</th>\n",
       "      <th>Sector</th>\n",
       "    </tr>\n",
       "  </thead>\n",
       "  <tbody>\n",
       "    <tr>\n",
       "      <th>0</th>\n",
       "      <td>A</td>\n",
       "      <td>Health Care</td>\n",
       "    </tr>\n",
       "    <tr>\n",
       "      <th>1</th>\n",
       "      <td>AAL</td>\n",
       "      <td>Industrials</td>\n",
       "    </tr>\n",
       "    <tr>\n",
       "      <th>2</th>\n",
       "      <td>AAP</td>\n",
       "      <td>Consumer Discretionary</td>\n",
       "    </tr>\n",
       "    <tr>\n",
       "      <th>3</th>\n",
       "      <td>AAPL</td>\n",
       "      <td>Information Technology</td>\n",
       "    </tr>\n",
       "    <tr>\n",
       "      <th>4</th>\n",
       "      <td>ABBV</td>\n",
       "      <td>Health Care</td>\n",
       "    </tr>\n",
       "  </tbody>\n",
       "</table>\n",
       "</div>"
      ],
      "text/plain": [
       "  Symbol                  Sector\n",
       "0      A             Health Care\n",
       "1    AAL             Industrials\n",
       "2    AAP  Consumer Discretionary\n",
       "3   AAPL  Information Technology\n",
       "4   ABBV             Health Care"
      ]
     },
     "execution_count": 4,
     "metadata": {},
     "output_type": "execute_result"
    }
   ],
   "source": [
    "df = pd.read_csv('../finance_data/Name_sector.csv')\n",
    "df.head()"
   ]
  },
  {
   "cell_type": "code",
   "execution_count": 5,
   "metadata": {},
   "outputs": [
    {
     "data": {
      "text/html": [
       "<div>\n",
       "<style scoped>\n",
       "    .dataframe tbody tr th:only-of-type {\n",
       "        vertical-align: middle;\n",
       "    }\n",
       "\n",
       "    .dataframe tbody tr th {\n",
       "        vertical-align: top;\n",
       "    }\n",
       "\n",
       "    .dataframe thead th {\n",
       "        text-align: right;\n",
       "    }\n",
       "</style>\n",
       "<table border=\"1\" class=\"dataframe\">\n",
       "  <thead>\n",
       "    <tr style=\"text-align: right;\">\n",
       "      <th></th>\n",
       "      <th>Date</th>\n",
       "      <th>Open</th>\n",
       "      <th>High</th>\n",
       "      <th>Low</th>\n",
       "      <th>Close</th>\n",
       "      <th>Volume</th>\n",
       "      <th>Adj Close</th>\n",
       "    </tr>\n",
       "  </thead>\n",
       "  <tbody>\n",
       "    <tr>\n",
       "      <th>0</th>\n",
       "      <td>5/1/14</td>\n",
       "      <td>128.809998</td>\n",
       "      <td>129.250000</td>\n",
       "      <td>128.149994</td>\n",
       "      <td>129.059998</td>\n",
       "      <td>2655500</td>\n",
       "      <td>129.059998</td>\n",
       "    </tr>\n",
       "    <tr>\n",
       "      <th>1</th>\n",
       "      <td>5/2/14</td>\n",
       "      <td>129.449997</td>\n",
       "      <td>129.729996</td>\n",
       "      <td>127.820000</td>\n",
       "      <td>128.089996</td>\n",
       "      <td>4276700</td>\n",
       "      <td>128.089996</td>\n",
       "    </tr>\n",
       "    <tr>\n",
       "      <th>2</th>\n",
       "      <td>5/5/14</td>\n",
       "      <td>127.190002</td>\n",
       "      <td>127.190002</td>\n",
       "      <td>126.080002</td>\n",
       "      <td>126.610001</td>\n",
       "      <td>3486100</td>\n",
       "      <td>126.610001</td>\n",
       "    </tr>\n",
       "    <tr>\n",
       "      <th>3</th>\n",
       "      <td>5/6/14</td>\n",
       "      <td>126.129997</td>\n",
       "      <td>126.290001</td>\n",
       "      <td>124.059998</td>\n",
       "      <td>124.669998</td>\n",
       "      <td>5381100</td>\n",
       "      <td>124.669998</td>\n",
       "    </tr>\n",
       "    <tr>\n",
       "      <th>4</th>\n",
       "      <td>5/7/14</td>\n",
       "      <td>125.400002</td>\n",
       "      <td>127.529999</td>\n",
       "      <td>125.320000</td>\n",
       "      <td>127.449997</td>\n",
       "      <td>3301400</td>\n",
       "      <td>127.449997</td>\n",
       "    </tr>\n",
       "  </tbody>\n",
       "</table>\n",
       "</div>"
      ],
      "text/plain": [
       "     Date        Open        High         Low       Close   Volume   Adj Close\n",
       "0  5/1/14  128.809998  129.250000  128.149994  129.059998  2655500  129.059998\n",
       "1  5/2/14  129.449997  129.729996  127.820000  128.089996  4276700  128.089996\n",
       "2  5/5/14  127.190002  127.190002  126.080002  126.610001  3486100  126.610001\n",
       "3  5/6/14  126.129997  126.290001  124.059998  124.669998  5381100  124.669998\n",
       "4  5/7/14  125.400002  127.529999  125.320000  127.449997  3301400  127.449997"
      ]
     },
     "execution_count": 5,
     "metadata": {},
     "output_type": "execute_result"
    }
   ],
   "source": [
    "df1 = pd.read_csv('../finance_data/data/BRK.B.csv')\n",
    "df1.head()"
   ]
  },
  {
   "cell_type": "code",
   "execution_count": 48,
   "metadata": {},
   "outputs": [],
   "source": [
    "def get_closing(stocks):\n",
    "    p = defaultdict(list)\n",
    "    stock_path = '../finance_data/data/'\n",
    "    ref = pd.read_csv('../finance_data/data/A.csv').shape[0]\n",
    "    for s in stocks:\n",
    "        stock_name = s.split(\".csv\")[0]\n",
    "        df = pd.read_csv(stock_path+s)\n",
    "        if df.shape[0] != ref:\n",
    "            continue\n",
    "        closing_prices = list(df['Close'].values)\n",
    "        p[stock_name].extend(closing_prices)\n",
    "    return p"
   ]
  },
  {
   "cell_type": "code",
   "execution_count": 148,
   "metadata": {},
   "outputs": [],
   "source": [
    "stocks = os.listdir('../finance_data/data/')\n",
    "p = get_closing(stocks)\n",
    "stocks = [x+\".csv\" for x in list(p.keys())]"
   ]
  },
  {
   "cell_type": "code",
   "execution_count": 152,
   "metadata": {},
   "outputs": [
    {
     "data": {
      "text/plain": [
       "494"
      ]
     },
     "execution_count": 152,
     "metadata": {},
     "output_type": "execute_result"
    }
   ],
   "source": [
    "len(p.keys())"
   ]
  },
  {
   "cell_type": "code",
   "execution_count": 153,
   "metadata": {},
   "outputs": [],
   "source": [
    "def get_stock_return(stock_name, p):\n",
    "    q = []\n",
    "    for i in range(1, len(p[stock_name])):\n",
    "        q.append(float((p[stock_name][i] - p[stock_name][i-1])/p[stock_name][i-1]))\n",
    "    return q"
   ]
  },
  {
   "cell_type": "code",
   "execution_count": 154,
   "metadata": {},
   "outputs": [
    {
     "data": {
      "text/plain": [
       "764"
      ]
     },
     "execution_count": 154,
     "metadata": {},
     "output_type": "execute_result"
    }
   ],
   "source": [
    "len((get_stock_return('ZTS', p)))"
   ]
  },
  {
   "cell_type": "code",
   "execution_count": 155,
   "metadata": {},
   "outputs": [],
   "source": [
    "def unnormalized_return(stocks, p):\n",
    "    ur = defaultdict(list)\n",
    "    for s in stocks:\n",
    "        stock_name = s.split(\".csv\")[0]\n",
    "        q = get_stock_return(stock_name, p)\n",
    "        ur[stock_name].extend(q)\n",
    "    return ur"
   ]
  },
  {
   "cell_type": "code",
   "execution_count": 156,
   "metadata": {},
   "outputs": [],
   "source": [
    "def log_normalized_return(stocks, p):\n",
    "    r = defaultdict(list)\n",
    "    for s in stocks:\n",
    "        stock_name = s.split(\".csv\")[0]\n",
    "        q = get_stock_return(stock_name, p)\n",
    "        norm_return = [np.log(1 + x) for x in q]\n",
    "        r[stock_name].extend(norm_return)\n",
    "    return r"
   ]
  },
  {
   "cell_type": "code",
   "execution_count": 157,
   "metadata": {},
   "outputs": [],
   "source": [
    "r = log_normalized_return(stocks, p)"
   ]
  },
  {
   "cell_type": "code",
   "execution_count": 158,
   "metadata": {},
   "outputs": [
    {
     "data": {
      "text/plain": [
       "764"
      ]
     },
     "execution_count": 158,
     "metadata": {},
     "output_type": "execute_result"
    }
   ],
   "source": [
    "len(r['ZTS'])"
   ]
  },
  {
   "cell_type": "code",
   "execution_count": 159,
   "metadata": {},
   "outputs": [],
   "source": [
    "def correlation(stock1, stock2, r):\n",
    "    r_i = np.array(r[stock1])\n",
    "    r_j = np.array(r[stock2])\n",
    "    \"\"\"\n",
    "    count = 0\n",
    "    if len(r_i) != len(r_j):\n",
    "        count+=1\n",
    "    n = min(len(r_i), len(r_j))\n",
    "    r_i = r_i[:n]\n",
    "    r_j = r_j[:n]\n",
    "    \"\"\"\n",
    "    #print(stock1, stock2)\n",
    "    numerator = np.mean(np.multiply(r_i, r_j)) - np.mean(r_i)*np.mean(r_j)\n",
    "    den1 = np.mean(r_i**2) - np.mean(r_i)**2\n",
    "    den2 = np.mean(r_j**2) - np.mean(r_j)**2\n",
    "    denominator = np.sqrt(den1 * den2)\n",
    "    corr_ij = numerator/denominator\n",
    "    return corr_ij"
   ]
  },
  {
   "cell_type": "code",
   "execution_count": 160,
   "metadata": {},
   "outputs": [
    {
     "data": {
      "text/plain": [
       "0.34266477849887145"
      ]
     },
     "execution_count": 160,
     "metadata": {},
     "output_type": "execute_result"
    }
   ],
   "source": [
    "correlation('ZTS', 'A', r)"
   ]
  },
  {
   "cell_type": "code",
   "execution_count": 161,
   "metadata": {},
   "outputs": [],
   "source": [
    "stock_names = sorted([s.split(\".csv\")[0] for s in stocks])\n",
    "n = len(stock_names)\n",
    "correlation_matrix = pd.DataFrame(data=np.zeros((n,n)), columns=stock_names)\n",
    "correlation_matrix.insert(0, 'ID', stock_names)\n",
    "correlation_matrix = correlation_matrix.set_index('ID')"
   ]
  },
  {
   "cell_type": "code",
   "execution_count": 162,
   "metadata": {},
   "outputs": [],
   "source": [
    "for s1 in stock_names:\n",
    "    for s2 in stock_names:\n",
    "        correlation_matrix[s1][s2] = correlation(s1, s2, r)\n",
    "correlation_matrix;"
   ]
  },
  {
   "cell_type": "code",
   "execution_count": 163,
   "metadata": {},
   "outputs": [],
   "source": [
    "correlation_weights = np.sqrt(2 * (1 - correlation_matrix))"
   ]
  },
  {
   "cell_type": "code",
   "execution_count": 164,
   "metadata": {},
   "outputs": [],
   "source": [
    "def edgelist(df):\n",
    "    a = df.values\n",
    "    c = df.columns\n",
    "    n = len(c)\n",
    "    #print(n)\n",
    "    c_ar = np.array(c)\n",
    "    out = np.empty((n, n, 2), dtype=c_ar.dtype)\n",
    "\n",
    "    out[...,0] = c_ar[:,None]\n",
    "    out[...,1] = c_ar\n",
    "\n",
    "    #mask = ~np.eye(n,dtype=bool)\n",
    "    mask = ~np.triu(np.ones((n,n), dtype=bool))\n",
    "    df_out = pd.DataFrame(out[mask], columns=[['V1','V2']])\n",
    "    df_out['Weight'] = a[mask]\n",
    "    return df_out\n"
   ]
  },
  {
   "cell_type": "code",
   "execution_count": 165,
   "metadata": {},
   "outputs": [],
   "source": [
    "correlation_edgelist = edgelist(correlation_weights)"
   ]
  },
  {
   "cell_type": "code",
   "execution_count": 166,
   "metadata": {},
   "outputs": [
    {
     "data": {
      "text/plain": [
       "121771"
      ]
     },
     "execution_count": 166,
     "metadata": {},
     "output_type": "execute_result"
    }
   ],
   "source": [
    "len(correlation_edgelist)"
   ]
  },
  {
   "cell_type": "code",
   "execution_count": 167,
   "metadata": {},
   "outputs": [],
   "source": [
    "correlation_edgelist.to_csv('../finance_data/correlation_edgelist.txt', sep=' ', header=False, index=False)"
   ]
  },
  {
   "cell_type": "code",
   "execution_count": 168,
   "metadata": {},
   "outputs": [],
   "source": [
    "ur = unnormalized_return(stocks, p)"
   ]
  },
  {
   "cell_type": "code",
   "execution_count": 169,
   "metadata": {},
   "outputs": [],
   "source": [
    "unnormalized_correlation_matrix = pd.DataFrame.copy(correlation_matrix)\n",
    "for s1 in stock_names:\n",
    "    for s2 in stock_names:\n",
    "        unnormalized_correlation_matrix[s1][s2] = correlation(s1, s2, ur)\n",
    "unnormalized_correlation_matrix;"
   ]
  },
  {
   "cell_type": "code",
   "execution_count": 170,
   "metadata": {},
   "outputs": [],
   "source": [
    "unnormalized_correlation_weights = np.sqrt(2 * (1 - unnormalized_correlation_matrix))"
   ]
  },
  {
   "cell_type": "code",
   "execution_count": 171,
   "metadata": {},
   "outputs": [],
   "source": [
    "unnormalized_correlation_edgelist = edgelist(unnormalized_correlation_weights)"
   ]
  },
  {
   "cell_type": "code",
   "execution_count": 172,
   "metadata": {},
   "outputs": [],
   "source": [
    "unnormalized_correlation_edgelist.to_csv('../finance_data/unnormalized_correlation_edgelist.txt', sep=' ', header=False, index=False)"
   ]
  },
  {
   "cell_type": "code",
   "execution_count": 173,
   "metadata": {},
   "outputs": [
    {
     "data": {
      "text/html": [
       "<div>\n",
       "<style scoped>\n",
       "    .dataframe tbody tr th:only-of-type {\n",
       "        vertical-align: middle;\n",
       "    }\n",
       "\n",
       "    .dataframe tbody tr th {\n",
       "        vertical-align: top;\n",
       "    }\n",
       "\n",
       "    .dataframe thead tr th {\n",
       "        text-align: left;\n",
       "    }\n",
       "</style>\n",
       "<table border=\"1\" class=\"dataframe\">\n",
       "  <thead>\n",
       "    <tr>\n",
       "      <th></th>\n",
       "      <th>V1</th>\n",
       "      <th>V2</th>\n",
       "      <th>Weight</th>\n",
       "    </tr>\n",
       "  </thead>\n",
       "  <tbody>\n",
       "    <tr>\n",
       "      <th>0</th>\n",
       "      <td>AAL</td>\n",
       "      <td>A</td>\n",
       "      <td>1.176795</td>\n",
       "    </tr>\n",
       "    <tr>\n",
       "      <th>1</th>\n",
       "      <td>AAP</td>\n",
       "      <td>A</td>\n",
       "      <td>1.260924</td>\n",
       "    </tr>\n",
       "    <tr>\n",
       "      <th>2</th>\n",
       "      <td>AAP</td>\n",
       "      <td>AAL</td>\n",
       "      <td>1.217204</td>\n",
       "    </tr>\n",
       "    <tr>\n",
       "      <th>3</th>\n",
       "      <td>AAPL</td>\n",
       "      <td>A</td>\n",
       "      <td>1.312798</td>\n",
       "    </tr>\n",
       "    <tr>\n",
       "      <th>4</th>\n",
       "      <td>AAPL</td>\n",
       "      <td>AAL</td>\n",
       "      <td>1.319783</td>\n",
       "    </tr>\n",
       "  </tbody>\n",
       "</table>\n",
       "</div>"
      ],
      "text/plain": [
       "     V1   V2    Weight\n",
       "0   AAL    A  1.176795\n",
       "1   AAP    A  1.260924\n",
       "2   AAP  AAL  1.217204\n",
       "3  AAPL    A  1.312798\n",
       "4  AAPL  AAL  1.319783"
      ]
     },
     "execution_count": 173,
     "metadata": {},
     "output_type": "execute_result"
    }
   ],
   "source": [
    "unnormalized_correlation_edgelist.head()"
   ]
  },
  {
   "cell_type": "code",
   "execution_count": 174,
   "metadata": {},
   "outputs": [
    {
     "data": {
      "text/html": [
       "<div>\n",
       "<style scoped>\n",
       "    .dataframe tbody tr th:only-of-type {\n",
       "        vertical-align: middle;\n",
       "    }\n",
       "\n",
       "    .dataframe tbody tr th {\n",
       "        vertical-align: top;\n",
       "    }\n",
       "\n",
       "    .dataframe thead tr th {\n",
       "        text-align: left;\n",
       "    }\n",
       "</style>\n",
       "<table border=\"1\" class=\"dataframe\">\n",
       "  <thead>\n",
       "    <tr>\n",
       "      <th></th>\n",
       "      <th>V1</th>\n",
       "      <th>V2</th>\n",
       "      <th>Weight</th>\n",
       "    </tr>\n",
       "  </thead>\n",
       "  <tbody>\n",
       "    <tr>\n",
       "      <th>0</th>\n",
       "      <td>AAL</td>\n",
       "      <td>A</td>\n",
       "      <td>1.189554</td>\n",
       "    </tr>\n",
       "    <tr>\n",
       "      <th>1</th>\n",
       "      <td>AAP</td>\n",
       "      <td>A</td>\n",
       "      <td>1.269710</td>\n",
       "    </tr>\n",
       "    <tr>\n",
       "      <th>2</th>\n",
       "      <td>AAP</td>\n",
       "      <td>AAL</td>\n",
       "      <td>1.217580</td>\n",
       "    </tr>\n",
       "    <tr>\n",
       "      <th>3</th>\n",
       "      <td>AAPL</td>\n",
       "      <td>A</td>\n",
       "      <td>1.373192</td>\n",
       "    </tr>\n",
       "    <tr>\n",
       "      <th>4</th>\n",
       "      <td>AAPL</td>\n",
       "      <td>AAL</td>\n",
       "      <td>1.365377</td>\n",
       "    </tr>\n",
       "  </tbody>\n",
       "</table>\n",
       "</div>"
      ],
      "text/plain": [
       "     V1   V2    Weight\n",
       "0   AAL    A  1.189554\n",
       "1   AAP    A  1.269710\n",
       "2   AAP  AAL  1.217580\n",
       "3  AAPL    A  1.373192\n",
       "4  AAPL  AAL  1.365377"
      ]
     },
     "execution_count": 174,
     "metadata": {},
     "output_type": "execute_result"
    }
   ],
   "source": [
    "correlation_edgelist.head()"
   ]
  },
  {
   "cell_type": "markdown",
   "metadata": {},
   "source": [
    "<h3>Remove stocks not being used from Name_sector.csv</h3>"
   ]
  },
  {
   "cell_type": "code",
   "execution_count": 175,
   "metadata": {},
   "outputs": [],
   "source": [
    "name_sector = pd.read_csv('../finance_data/Name_sector.csv')"
   ]
  },
  {
   "cell_type": "code",
   "execution_count": 176,
   "metadata": {},
   "outputs": [
    {
     "data": {
      "text/plain": [
       "494"
      ]
     },
     "execution_count": 176,
     "metadata": {},
     "output_type": "execute_result"
    }
   ],
   "source": [
    "len(stocks)"
   ]
  },
  {
   "cell_type": "code",
   "execution_count": 177,
   "metadata": {},
   "outputs": [
    {
     "data": {
      "text/plain": [
       "(505, 2)"
      ]
     },
     "execution_count": 177,
     "metadata": {},
     "output_type": "execute_result"
    }
   ],
   "source": [
    "name_sector.shape"
   ]
  },
  {
   "cell_type": "code",
   "execution_count": 178,
   "metadata": {},
   "outputs": [
    {
     "data": {
      "text/html": [
       "<div>\n",
       "<style scoped>\n",
       "    .dataframe tbody tr th:only-of-type {\n",
       "        vertical-align: middle;\n",
       "    }\n",
       "\n",
       "    .dataframe tbody tr th {\n",
       "        vertical-align: top;\n",
       "    }\n",
       "\n",
       "    .dataframe thead th {\n",
       "        text-align: right;\n",
       "    }\n",
       "</style>\n",
       "<table border=\"1\" class=\"dataframe\">\n",
       "  <thead>\n",
       "    <tr style=\"text-align: right;\">\n",
       "      <th></th>\n",
       "      <th>Symbol</th>\n",
       "      <th>Sector</th>\n",
       "    </tr>\n",
       "  </thead>\n",
       "  <tbody>\n",
       "    <tr>\n",
       "      <th>0</th>\n",
       "      <td>A</td>\n",
       "      <td>Health Care</td>\n",
       "    </tr>\n",
       "    <tr>\n",
       "      <th>1</th>\n",
       "      <td>AAL</td>\n",
       "      <td>Industrials</td>\n",
       "    </tr>\n",
       "    <tr>\n",
       "      <th>2</th>\n",
       "      <td>AAP</td>\n",
       "      <td>Consumer Discretionary</td>\n",
       "    </tr>\n",
       "    <tr>\n",
       "      <th>3</th>\n",
       "      <td>AAPL</td>\n",
       "      <td>Information Technology</td>\n",
       "    </tr>\n",
       "    <tr>\n",
       "      <th>4</th>\n",
       "      <td>ABBV</td>\n",
       "      <td>Health Care</td>\n",
       "    </tr>\n",
       "  </tbody>\n",
       "</table>\n",
       "</div>"
      ],
      "text/plain": [
       "  Symbol                  Sector\n",
       "0      A             Health Care\n",
       "1    AAL             Industrials\n",
       "2    AAP  Consumer Discretionary\n",
       "3   AAPL  Information Technology\n",
       "4   ABBV             Health Care"
      ]
     },
     "execution_count": 178,
     "metadata": {},
     "output_type": "execute_result"
    }
   ],
   "source": [
    "name_sector.head()"
   ]
  },
  {
   "cell_type": "code",
   "execution_count": 179,
   "metadata": {},
   "outputs": [],
   "source": [
    "new_name_sector = name_sector.loc[name_sector['Symbol'].isin(stocks)]"
   ]
  },
  {
   "cell_type": "code",
   "execution_count": 180,
   "metadata": {},
   "outputs": [
    {
     "data": {
      "text/plain": [
       "(0, 2)"
      ]
     },
     "execution_count": 180,
     "metadata": {},
     "output_type": "execute_result"
    }
   ],
   "source": [
    "new_name_sector.shape"
   ]
  },
  {
   "cell_type": "code",
   "execution_count": 181,
   "metadata": {},
   "outputs": [],
   "source": [
    "new_name_sector.to_csv('../finance_data/Name_sector2.csv', index=False)"
   ]
  },
  {
   "cell_type": "markdown",
   "metadata": {},
   "source": [
    "<h3>Weekly data</h3>"
   ]
  },
  {
   "cell_type": "code",
   "execution_count": 182,
   "metadata": {},
   "outputs": [
    {
     "data": {
      "text/html": [
       "<div>\n",
       "<style scoped>\n",
       "    .dataframe tbody tr th:only-of-type {\n",
       "        vertical-align: middle;\n",
       "    }\n",
       "\n",
       "    .dataframe tbody tr th {\n",
       "        vertical-align: top;\n",
       "    }\n",
       "\n",
       "    .dataframe thead th {\n",
       "        text-align: right;\n",
       "    }\n",
       "</style>\n",
       "<table border=\"1\" class=\"dataframe\">\n",
       "  <thead>\n",
       "    <tr style=\"text-align: right;\">\n",
       "      <th></th>\n",
       "      <th>Date</th>\n",
       "      <th>Open</th>\n",
       "      <th>High</th>\n",
       "      <th>Low</th>\n",
       "      <th>Close</th>\n",
       "      <th>Volume</th>\n",
       "      <th>Adj Close</th>\n",
       "      <th>Weekday</th>\n",
       "    </tr>\n",
       "  </thead>\n",
       "  <tbody>\n",
       "    <tr>\n",
       "      <th>2</th>\n",
       "      <td>5/5/14</td>\n",
       "      <td>127.190002</td>\n",
       "      <td>127.190002</td>\n",
       "      <td>126.080002</td>\n",
       "      <td>126.610001</td>\n",
       "      <td>3486100</td>\n",
       "      <td>126.610001</td>\n",
       "      <td>0</td>\n",
       "    </tr>\n",
       "    <tr>\n",
       "      <th>7</th>\n",
       "      <td>5/12/14</td>\n",
       "      <td>127.870003</td>\n",
       "      <td>128.240005</td>\n",
       "      <td>126.889999</td>\n",
       "      <td>127.290001</td>\n",
       "      <td>3406900</td>\n",
       "      <td>127.290001</td>\n",
       "      <td>0</td>\n",
       "    </tr>\n",
       "    <tr>\n",
       "      <th>12</th>\n",
       "      <td>5/19/14</td>\n",
       "      <td>126.769997</td>\n",
       "      <td>127.209999</td>\n",
       "      <td>126.110001</td>\n",
       "      <td>127.129997</td>\n",
       "      <td>2242400</td>\n",
       "      <td>127.129997</td>\n",
       "      <td>0</td>\n",
       "    </tr>\n",
       "    <tr>\n",
       "      <th>21</th>\n",
       "      <td>6/2/14</td>\n",
       "      <td>128.279999</td>\n",
       "      <td>128.750000</td>\n",
       "      <td>127.370003</td>\n",
       "      <td>127.879997</td>\n",
       "      <td>2007200</td>\n",
       "      <td>127.879997</td>\n",
       "      <td>0</td>\n",
       "    </tr>\n",
       "    <tr>\n",
       "      <th>26</th>\n",
       "      <td>6/9/14</td>\n",
       "      <td>128.330002</td>\n",
       "      <td>128.619995</td>\n",
       "      <td>127.570000</td>\n",
       "      <td>127.989998</td>\n",
       "      <td>2385200</td>\n",
       "      <td>127.989998</td>\n",
       "      <td>0</td>\n",
       "    </tr>\n",
       "  </tbody>\n",
       "</table>\n",
       "</div>"
      ],
      "text/plain": [
       "       Date        Open        High         Low       Close   Volume  \\\n",
       "2    5/5/14  127.190002  127.190002  126.080002  126.610001  3486100   \n",
       "7   5/12/14  127.870003  128.240005  126.889999  127.290001  3406900   \n",
       "12  5/19/14  126.769997  127.209999  126.110001  127.129997  2242400   \n",
       "21   6/2/14  128.279999  128.750000  127.370003  127.879997  2007200   \n",
       "26   6/9/14  128.330002  128.619995  127.570000  127.989998  2385200   \n",
       "\n",
       "     Adj Close  Weekday  \n",
       "2   126.610001        0  \n",
       "7   127.290001        0  \n",
       "12  127.129997        0  \n",
       "21  127.879997        0  \n",
       "26  127.989998        0  "
      ]
     },
     "execution_count": 182,
     "metadata": {},
     "output_type": "execute_result"
    }
   ],
   "source": [
    "df = pd.read_csv('../finance_data/data/BRK.B.csv')\n",
    "df['Weekday'] = pd.to_datetime(df['Date']).apply(lambda x: x.weekday())\n",
    "df[df['Weekday'] == 0].head()"
   ]
  },
  {
   "cell_type": "code",
   "execution_count": 183,
   "metadata": {},
   "outputs": [],
   "source": [
    "def get_weekly_closing(stocks):\n",
    "    p = defaultdict(list)\n",
    "    stock_path = '../finance_data/data/'\n",
    "    #ref = pd.read_csv('../finance_data/data/A.csv').shape[0]\n",
    "    for s in stocks:\n",
    "        stock_name = s.split(\".csv\")[0]\n",
    "        df = pd.read_csv(stock_path+s)\n",
    "        df['Weekday'] = pd.to_datetime(df['Date']).apply(lambda x: x.weekday())\n",
    "        df = df[df['Weekday'] == 0]\n",
    "        #if df.shape[0] != ref:\n",
    "         #   continue\n",
    "        closing_prices = list(df['Close'].values)\n",
    "        p[stock_name].extend(closing_prices)\n",
    "    return p"
   ]
  },
  {
   "cell_type": "code",
   "execution_count": 184,
   "metadata": {},
   "outputs": [],
   "source": [
    "p_weekly = get_weekly_closing(stocks)"
   ]
  },
  {
   "cell_type": "code",
   "execution_count": 185,
   "metadata": {},
   "outputs": [],
   "source": [
    "r_weekly = log_normalized_return(stocks, p_weekly)"
   ]
  },
  {
   "cell_type": "code",
   "execution_count": 186,
   "metadata": {},
   "outputs": [],
   "source": [
    "weekly_correlation_matrix = pd.DataFrame.copy(correlation_matrix)\n",
    "for s1 in stock_names:\n",
    "    for s2 in stock_names:\n",
    "        weekly_correlation_matrix[s1][s2] = correlation(s1, s2, r_weekly)\n",
    "weekly_correlation_matrix;"
   ]
  },
  {
   "cell_type": "code",
   "execution_count": 187,
   "metadata": {},
   "outputs": [],
   "source": [
    "weekly_correlation_weights = np.sqrt(2 * (1 - weekly_correlation_matrix))"
   ]
  },
  {
   "cell_type": "code",
   "execution_count": 188,
   "metadata": {},
   "outputs": [],
   "source": [
    "weekly_correlation_edgelist = edgelist(weekly_correlation_weights)"
   ]
  },
  {
   "cell_type": "code",
   "execution_count": 189,
   "metadata": {},
   "outputs": [],
   "source": [
    "weekly_correlation_edgelist.to_csv('../finance_data/weekly_correlation_edgelist.txt', sep=' ', header=False, index=False)"
   ]
  },
  {
   "cell_type": "code",
   "execution_count": null,
   "metadata": {},
   "outputs": [],
   "source": []
  }
 ],
 "metadata": {
  "kernelspec": {
   "display_name": "Python 3",
   "language": "python",
   "name": "python3"
  },
  "language_info": {
   "codemirror_mode": {
    "name": "ipython",
    "version": 3
   },
   "file_extension": ".py",
   "mimetype": "text/x-python",
   "name": "python",
   "nbconvert_exporter": "python",
   "pygments_lexer": "ipython3",
   "version": "3.6.5"
  }
 },
 "nbformat": 4,
 "nbformat_minor": 2
}
