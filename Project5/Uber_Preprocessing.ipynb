{
 "cells": [
  {
   "cell_type": "code",
   "execution_count": 2,
   "metadata": {},
   "outputs": [],
   "source": [
    "import pandas as pd\n",
    "import numpy as np\n",
    "import json\n",
    "from scipy.sparse import coo_matrix\n",
    "from scipy.sparse import csr_matrix\n",
    "from pprint import pprint"
   ]
  },
  {
   "cell_type": "code",
   "execution_count": 145,
   "metadata": {},
   "outputs": [],
   "source": [
    "json_file = '../uber_data/san_francisco_censustracts.json'\n",
    "json_data=open(json_file).read()\n",
    "data = json.loads(json_data)\n",
    "#pprint(data)"
   ]
  },
  {
   "cell_type": "code",
   "execution_count": 146,
   "metadata": {},
   "outputs": [
    {
     "data": {
      "text/plain": [
       "[[-122.224626, 37.465065],\n",
       " [-122.223616, 37.469312],\n",
       " [-122.22358, 37.469466],\n",
       " [-122.221763, 37.473925],\n",
       " [-122.221776, 37.476151],\n",
       " [-122.220521, 37.478913],\n",
       " [-122.21764, 37.477094],\n",
       " [-122.214839, 37.47532],\n",
       " [-122.215441, 37.474855],\n",
       " [-122.216813, 37.472842],\n",
       " [-122.215655, 37.471997],\n",
       " [-122.21211, 37.469437],\n",
       " [-122.215954, 37.464865],\n",
       " [-122.21701, 37.465068],\n",
       " [-122.218533, 37.462448],\n",
       " [-122.218376, 37.463114],\n",
       " [-122.221052, 37.462831],\n",
       " [-122.224778, 37.464346],\n",
       " [-122.224626, 37.465065]]"
      ]
     },
     "execution_count": 146,
     "metadata": {},
     "output_type": "execute_result"
    }
   ],
   "source": [
    "data['features'][1]['geometry']['coordinates'][0][0]"
   ]
  },
  {
   "cell_type": "code",
   "execution_count": 147,
   "metadata": {},
   "outputs": [
    {
     "data": {
      "text/plain": [
       "array([-122.21940574,   37.46958495])"
      ]
     },
     "execution_count": 147,
     "metadata": {},
     "output_type": "execute_result"
    }
   ],
   "source": [
    "np.mean(data['features'][1]['geometry']['coordinates'][0][0], axis=0)"
   ]
  },
  {
   "cell_type": "code",
   "execution_count": 148,
   "metadata": {},
   "outputs": [
    {
     "data": {
      "text/plain": [
       "'1'"
      ]
     },
     "execution_count": 148,
     "metadata": {},
     "output_type": "execute_result"
    }
   ],
   "source": [
    "data['features'][0]['properties']['MOVEMENT_ID']"
   ]
  },
  {
   "cell_type": "code",
   "execution_count": 149,
   "metadata": {},
   "outputs": [
    {
     "data": {
      "text/plain": [
       "'South San Joaquin Rocks Lookout Road, Coalinga'"
      ]
     },
     "execution_count": 149,
     "metadata": {},
     "output_type": "execute_result"
    }
   ],
   "source": [
    "data['features'][189]['properties']['DISPLAY_NAME']"
   ]
  },
  {
   "cell_type": "code",
   "execution_count": 163,
   "metadata": {},
   "outputs": [
    {
     "data": {
      "text/plain": [
       "{'geometry': {'coordinates': [[[[-121.679781, 37.158594],\n",
       "     [-121.671983, 37.164063],\n",
       "     [-121.670184, 37.165278],\n",
       "     [-121.66749, 37.167032],\n",
       "     [-121.663253, 37.162396],\n",
       "     [-121.655618, 37.156437],\n",
       "     [-121.645075, 37.145542],\n",
       "     [-121.640905, 37.141237],\n",
       "     [-121.64082, 37.14115],\n",
       "     [-121.642424, 37.139813],\n",
       "     [-121.64338, 37.13904],\n",
       "     [-121.65269, 37.13173],\n",
       "     [-121.66269, 37.14148],\n",
       "     [-121.66333, 37.14345],\n",
       "     [-121.66718, 37.14628],\n",
       "     [-121.677079, 37.155975],\n",
       "     [-121.679781, 37.158594]]]],\n",
       "  'type': 'MultiPolygon'},\n",
       " 'properties': {'DISPLAY_NAME': '18300 Sutter Boulevard, Morgan Hill',\n",
       "  'MOVEMENT_ID': '3'},\n",
       " 'type': 'Feature'}"
      ]
     },
     "execution_count": 163,
     "metadata": {},
     "output_type": "execute_result"
    }
   ],
   "source": [
    "data['features'][2]"
   ]
  },
  {
   "cell_type": "code",
   "execution_count": 204,
   "metadata": {},
   "outputs": [
    {
     "data": {
      "text/plain": [
       "[{'display_name': 'Sargent Creek, San Ardo',\n",
       "  'location': array([-120.78868462,   36.07162944]),\n",
       "  'movement_id': '1'},\n",
       " {'display_name': '400 Northumberland Avenue, Redwood Oaks, Redwood City',\n",
       "  'location': array([-122.21940574,   37.46958495]),\n",
       "  'movement_id': '2'},\n",
       " {'display_name': '18300 Sutter Boulevard, Morgan Hill',\n",
       "  'location': array([-121.66021547,   37.15047594]),\n",
       "  'movement_id': '3'},\n",
       " {'display_name': '2700 Stoughton Way, Sheffield, Sacramento',\n",
       "  'location': array([-121.3428459 ,   38.57307385]),\n",
       "  'movement_id': '4'},\n",
       " {'display_name': '3200 Huntsman Drive, Rosemont Park, Sacramento',\n",
       "  'location': array([-121.36171355,   38.5544347 ]),\n",
       "  'movement_id': '5'}]"
      ]
     },
     "execution_count": 204,
     "metadata": {},
     "output_type": "execute_result"
    }
   ],
   "source": [
    "n = len(data['features'])\n",
    "df_data = []\n",
    "for i in range(0, n):\n",
    "    #print(i)\n",
    "    mov_id = data['features'][i]['properties']['MOVEMENT_ID']\n",
    "    location = np.mean(data['features'][i]['geometry']['coordinates'][0][0], axis=0)\n",
    "    disp_name = data['features'][i]['properties']['DISPLAY_NAME']\n",
    "    df_data.append({\"movement_id\": mov_id, \"location\": location, \"display_name\": disp_name})\n",
    "df_data[:5]"
   ]
  },
  {
   "cell_type": "code",
   "execution_count": 210,
   "metadata": {},
   "outputs": [
    {
     "data": {
      "text/html": [
       "<div>\n",
       "<style scoped>\n",
       "    .dataframe tbody tr th:only-of-type {\n",
       "        vertical-align: middle;\n",
       "    }\n",
       "\n",
       "    .dataframe tbody tr th {\n",
       "        vertical-align: top;\n",
       "    }\n",
       "\n",
       "    .dataframe thead th {\n",
       "        text-align: right;\n",
       "    }\n",
       "</style>\n",
       "<table border=\"1\" class=\"dataframe\">\n",
       "  <thead>\n",
       "    <tr style=\"text-align: right;\">\n",
       "      <th></th>\n",
       "      <th>display_name</th>\n",
       "      <th>location</th>\n",
       "      <th>movement_id</th>\n",
       "    </tr>\n",
       "  </thead>\n",
       "  <tbody>\n",
       "    <tr>\n",
       "      <th>0</th>\n",
       "      <td>Sargent Creek, San Ardo</td>\n",
       "      <td>[-120.788684621, 36.0716294437]</td>\n",
       "      <td>1</td>\n",
       "    </tr>\n",
       "    <tr>\n",
       "      <th>1</th>\n",
       "      <td>400 Northumberland Avenue, Redwood Oaks, Redwo...</td>\n",
       "      <td>[-122.219405737, 37.4695849474]</td>\n",
       "      <td>2</td>\n",
       "    </tr>\n",
       "    <tr>\n",
       "      <th>2</th>\n",
       "      <td>18300 Sutter Boulevard, Morgan Hill</td>\n",
       "      <td>[-121.660215471, 37.1504759412]</td>\n",
       "      <td>3</td>\n",
       "    </tr>\n",
       "    <tr>\n",
       "      <th>3</th>\n",
       "      <td>2700 Stoughton Way, Sheffield, Sacramento</td>\n",
       "      <td>[-121.3428459, 38.57307385]</td>\n",
       "      <td>4</td>\n",
       "    </tr>\n",
       "    <tr>\n",
       "      <th>4</th>\n",
       "      <td>3200 Huntsman Drive, Rosemont Park, Sacramento</td>\n",
       "      <td>[-121.36171355, 38.5544347]</td>\n",
       "      <td>5</td>\n",
       "    </tr>\n",
       "  </tbody>\n",
       "</table>\n",
       "</div>"
      ],
      "text/plain": [
       "                                        display_name  \\\n",
       "0                            Sargent Creek, San Ardo   \n",
       "1  400 Northumberland Avenue, Redwood Oaks, Redwo...   \n",
       "2                18300 Sutter Boulevard, Morgan Hill   \n",
       "3          2700 Stoughton Way, Sheffield, Sacramento   \n",
       "4     3200 Huntsman Drive, Rosemont Park, Sacramento   \n",
       "\n",
       "                          location movement_id  \n",
       "0  [-120.788684621, 36.0716294437]           1  \n",
       "1  [-122.219405737, 37.4695849474]           2  \n",
       "2  [-121.660215471, 37.1504759412]           3  \n",
       "3      [-121.3428459, 38.57307385]           4  \n",
       "4      [-121.36171355, 38.5544347]           5  "
      ]
     },
     "execution_count": 210,
     "metadata": {},
     "output_type": "execute_result"
    }
   ],
   "source": [
    "json_df = pd.DataFrame.from_records(df_data)\n",
    "json_df.head()"
   ]
  },
  {
   "cell_type": "code",
   "execution_count": 207,
   "metadata": {},
   "outputs": [],
   "source": [
    "json_df.to_csv('../uber_data/Geo_Data.csv', index=False)"
   ]
  },
  {
   "cell_type": "markdown",
   "metadata": {},
   "source": [
    "<h2>Movement data CSV</h2>"
   ]
  },
  {
   "cell_type": "code",
   "execution_count": 3,
   "metadata": {},
   "outputs": [],
   "source": [
    "csv_file = '../uber_data/san_francisco-censustracts-2017-4-All-MonthlyAggregate.csv'"
   ]
  },
  {
   "cell_type": "code",
   "execution_count": 4,
   "metadata": {},
   "outputs": [],
   "source": [
    "df = pd.read_csv(csv_file)\n",
    "df = df[df['month'] == 12]"
   ]
  },
  {
   "cell_type": "code",
   "execution_count": 5,
   "metadata": {},
   "outputs": [
    {
     "data": {
      "text/html": [
       "<div>\n",
       "<style scoped>\n",
       "    .dataframe tbody tr th:only-of-type {\n",
       "        vertical-align: middle;\n",
       "    }\n",
       "\n",
       "    .dataframe tbody tr th {\n",
       "        vertical-align: top;\n",
       "    }\n",
       "\n",
       "    .dataframe thead th {\n",
       "        text-align: right;\n",
       "    }\n",
       "</style>\n",
       "<table border=\"1\" class=\"dataframe\">\n",
       "  <thead>\n",
       "    <tr style=\"text-align: right;\">\n",
       "      <th></th>\n",
       "      <th>sourceid</th>\n",
       "      <th>dstid</th>\n",
       "      <th>mean_travel_time</th>\n",
       "    </tr>\n",
       "  </thead>\n",
       "  <tbody>\n",
       "    <tr>\n",
       "      <th>5</th>\n",
       "      <td>1938</td>\n",
       "      <td>1952</td>\n",
       "      <td>596.69</td>\n",
       "    </tr>\n",
       "    <tr>\n",
       "      <th>6</th>\n",
       "      <td>1747</td>\n",
       "      <td>629</td>\n",
       "      <td>1454.81</td>\n",
       "    </tr>\n",
       "    <tr>\n",
       "      <th>8</th>\n",
       "      <td>1872</td>\n",
       "      <td>1919</td>\n",
       "      <td>1227.01</td>\n",
       "    </tr>\n",
       "    <tr>\n",
       "      <th>9</th>\n",
       "      <td>1871</td>\n",
       "      <td>1929</td>\n",
       "      <td>1005.54</td>\n",
       "    </tr>\n",
       "    <tr>\n",
       "      <th>10</th>\n",
       "      <td>81</td>\n",
       "      <td>2319</td>\n",
       "      <td>474.53</td>\n",
       "    </tr>\n",
       "  </tbody>\n",
       "</table>\n",
       "</div>"
      ],
      "text/plain": [
       "    sourceid  dstid  mean_travel_time\n",
       "5       1938   1952            596.69\n",
       "6       1747    629           1454.81\n",
       "8       1872   1919           1227.01\n",
       "9       1871   1929           1005.54\n",
       "10        81   2319            474.53"
      ]
     },
     "execution_count": 5,
     "metadata": {},
     "output_type": "execute_result"
    }
   ],
   "source": [
    "df_edgelist = df[['sourceid', 'dstid', 'mean_travel_time']]\n",
    "df_edgelist.head()"
   ]
  },
  {
   "cell_type": "code",
   "execution_count": 6,
   "metadata": {},
   "outputs": [
    {
     "data": {
      "text/plain": [
       "1852"
      ]
     },
     "execution_count": 6,
     "metadata": {},
     "output_type": "execute_result"
    }
   ],
   "source": [
    "len(df_edgelist['sourceid'].unique())"
   ]
  },
  {
   "cell_type": "code",
   "execution_count": 7,
   "metadata": {},
   "outputs": [
    {
     "data": {
      "text/plain": [
       "1885"
      ]
     },
     "execution_count": 7,
     "metadata": {},
     "output_type": "execute_result"
    }
   ],
   "source": [
    "len(df_edgelist['dstid'].unique())"
   ]
  },
  {
   "cell_type": "code",
   "execution_count": 140,
   "metadata": {},
   "outputs": [],
   "source": [
    "df_edgelist.groupby(['sourceid','dstid'], as_index=False).size();"
   ]
  },
  {
   "cell_type": "code",
   "execution_count": 139,
   "metadata": {},
   "outputs": [],
   "source": [
    "weights = df_edgelist[['mean_travel_time']].values.ravel()\n",
    "row = df_edgelist[['sourceid']].values.ravel()\n",
    "col = df_edgelist[['dstid']].values.ravel()\n",
    "#print(len(row))\n",
    "#print(len(col))\n",
    "#n = len(np.unique(np.append(row, col)))"
   ]
  },
  {
   "cell_type": "code",
   "execution_count": 138,
   "metadata": {},
   "outputs": [
    {
     "name": "stdout",
     "output_type": "stream",
     "text": [
      "[1938 1747 1872 ..., 1311 1304 1333]\n",
      "[1952  629 1919 ..., 2466 2536 2246]\n",
      "538998\n"
     ]
    }
   ],
   "source": [
    "print(row)\n",
    "print(col)\n",
    "print(len(weights))"
   ]
  },
  {
   "cell_type": "code",
   "execution_count": 96,
   "metadata": {},
   "outputs": [
    {
     "name": "stderr",
     "output_type": "stream",
     "text": [
      "/usr/local/lib/python3.6/site-packages/scipy/sparse/compressed.py:214: SparseEfficiencyWarning: Comparing a sparse matrix with 0 using == is inefficient, try using != instead.\n",
      "  \", try using != instead.\", SparseEfficiencyWarning)\n",
      "/usr/local/lib/python3.6/site-packages/scipy/sparse/compressed.py:742: SparseEfficiencyWarning: Changing the sparsity structure of a csr_matrix is expensive. lil_matrix is more efficient.\n",
      "  SparseEfficiencyWarning)\n"
     ]
    }
   ],
   "source": [
    "coo = coo_matrix((weights, (row, col)))\n",
    "csr = coo.tocsr()\n",
    "csr[csr == 0] = np.nan"
   ]
  },
  {
   "cell_type": "code",
   "execution_count": 99,
   "metadata": {},
   "outputs": [
    {
     "name": "stderr",
     "output_type": "stream",
     "text": [
      "/usr/local/lib/python3.6/site-packages/ipykernel_launcher.py:1: RuntimeWarning: Mean of empty slice\n",
      "  \"\"\"Entry point for launching an IPython kernel.\n"
     ]
    }
   ],
   "source": [
    "no_duplicate = np.nanmean(np.array([csr.toarray(), csr.T.toarray()]), axis=0)"
   ]
  },
  {
   "cell_type": "code",
   "execution_count": 100,
   "metadata": {},
   "outputs": [
    {
     "data": {
      "text/plain": [
       "7344100"
      ]
     },
     "execution_count": 100,
     "metadata": {},
     "output_type": "execute_result"
    }
   ],
   "source": [
    "nonzero_edges = np.argwhere(no_duplicate)\n",
    "len(nonzero_edges)"
   ]
  },
  {
   "cell_type": "code",
   "execution_count": 104,
   "metadata": {},
   "outputs": [
    {
     "data": {
      "text/plain": [
       "[{'V1': 0, 'V2': 0, 'Weight': nan},\n",
       " {'V1': 0, 'V2': 1, 'Weight': nan},\n",
       " {'V1': 0, 'V2': 2, 'Weight': nan},\n",
       " {'V1': 0, 'V2': 3, 'Weight': nan},\n",
       " {'V1': 0, 'V2': 4, 'Weight': nan}]"
      ]
     },
     "execution_count": 104,
     "metadata": {},
     "output_type": "execute_result"
    }
   ],
   "source": [
    "edge_data = []\n",
    "for (i,j) in nonzero_edges:\n",
    "    edge_data.append({\"V1\":i, \"V2\":j, \"Weight\":no_duplicate[i,j]})\n",
    "edge_data[:5]"
   ]
  },
  {
   "cell_type": "code",
   "execution_count": 114,
   "metadata": {},
   "outputs": [
    {
     "data": {
      "text/html": [
       "<div>\n",
       "<style scoped>\n",
       "    .dataframe tbody tr th:only-of-type {\n",
       "        vertical-align: middle;\n",
       "    }\n",
       "\n",
       "    .dataframe tbody tr th {\n",
       "        vertical-align: top;\n",
       "    }\n",
       "\n",
       "    .dataframe thead th {\n",
       "        text-align: right;\n",
       "    }\n",
       "</style>\n",
       "<table border=\"1\" class=\"dataframe\">\n",
       "  <thead>\n",
       "    <tr style=\"text-align: right;\">\n",
       "      <th></th>\n",
       "      <th>V1</th>\n",
       "      <th>V2</th>\n",
       "      <th>Weight</th>\n",
       "    </tr>\n",
       "  </thead>\n",
       "  <tbody>\n",
       "    <tr>\n",
       "      <th>5429</th>\n",
       "      <td>2</td>\n",
       "      <td>9</td>\n",
       "      <td>2787.965</td>\n",
       "    </tr>\n",
       "    <tr>\n",
       "      <th>5440</th>\n",
       "      <td>2</td>\n",
       "      <td>20</td>\n",
       "      <td>2784.245</td>\n",
       "    </tr>\n",
       "    <tr>\n",
       "      <th>5481</th>\n",
       "      <td>2</td>\n",
       "      <td>61</td>\n",
       "      <td>1374.620</td>\n",
       "    </tr>\n",
       "    <tr>\n",
       "      <th>5499</th>\n",
       "      <td>2</td>\n",
       "      <td>79</td>\n",
       "      <td>2876.640</td>\n",
       "    </tr>\n",
       "    <tr>\n",
       "      <th>5502</th>\n",
       "      <td>2</td>\n",
       "      <td>82</td>\n",
       "      <td>2132.185</td>\n",
       "    </tr>\n",
       "  </tbody>\n",
       "</table>\n",
       "</div>"
      ],
      "text/plain": [
       "      V1  V2    Weight\n",
       "5429   2   9  2787.965\n",
       "5440   2  20  2784.245\n",
       "5481   2  61  1374.620\n",
       "5499   2  79  2876.640\n",
       "5502   2  82  2132.185"
      ]
     },
     "execution_count": 114,
     "metadata": {},
     "output_type": "execute_result"
    }
   ],
   "source": [
    "edge_df = pd.DataFrame.from_records(edge_data)\n",
    "edge_df = edge_df.dropna()\n",
    "edge_df.head()"
   ]
  },
  {
   "cell_type": "code",
   "execution_count": 120,
   "metadata": {},
   "outputs": [
    {
     "data": {
      "text/plain": [
       "1887"
      ]
     },
     "execution_count": 120,
     "metadata": {},
     "output_type": "execute_result"
    }
   ],
   "source": [
    "len(set.intersection(set(edge_df['V1']), set(edge_df['V2'])))"
   ]
  },
  {
   "cell_type": "code",
   "execution_count": 202,
   "metadata": {},
   "outputs": [
    {
     "data": {
      "text/plain": [
       "Index(['V1', 'V2', 'Weight'], dtype='object')"
      ]
     },
     "execution_count": 202,
     "metadata": {},
     "output_type": "execute_result"
    }
   ],
   "source": [
    "edge_df.columns"
   ]
  },
  {
   "cell_type": "code",
   "execution_count": 134,
   "metadata": {},
   "outputs": [],
   "source": [
    "def edgelist(df):\n",
    "    a = df.values\n",
    "    c = df.columns\n",
    "    n = len(c)\n",
    "    #print(n)\n",
    "    c_ar = np.array(c)\n",
    "    out = np.empty((n, n, 2), dtype=c_ar.dtype)\n",
    "\n",
    "    out[...,0] = c_ar[:,None]\n",
    "    out[...,1] = c_ar\n",
    "\n",
    "    #mask = ~np.eye(n,dtype=bool)\n",
    "    mask = ~np.triu(np.ones((n,n), dtype=bool))\n",
    "    df_out = pd.DataFrame(out[mask], columns=[['V1','V2']])\n",
    "    df_out['Weight'] = a[mask]\n",
    "    return df_out"
   ]
  },
  {
   "cell_type": "code",
   "execution_count": 195,
   "metadata": {},
   "outputs": [],
   "source": [
    "edgelist_matrix = edgelist(pd.DataFrame(no_duplicate))\n",
    "edgelist_matrix = edgelist_matrix.dropna()"
   ]
  },
  {
   "cell_type": "code",
   "execution_count": 143,
   "metadata": {},
   "outputs": [],
   "source": [
    "edgelist_matrix.to_csv('../uber_data/movement_edgelist.txt', sep=' ', header=False, index=False)"
   ]
  },
  {
   "cell_type": "code",
   "execution_count": null,
   "metadata": {},
   "outputs": [],
   "source": []
  }
 ],
 "metadata": {
  "kernelspec": {
   "display_name": "Python 3",
   "language": "python",
   "name": "python3"
  },
  "language_info": {
   "codemirror_mode": {
    "name": "ipython",
    "version": 3
   },
   "file_extension": ".py",
   "mimetype": "text/x-python",
   "name": "python",
   "nbconvert_exporter": "python",
   "pygments_lexer": "ipython3",
   "version": "3.6.5"
  }
 },
 "nbformat": 4,
 "nbformat_minor": 2
}
