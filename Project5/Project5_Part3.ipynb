{
 "cells": [
  {
   "cell_type": "code",
   "execution_count": 1,
   "metadata": {},
   "outputs": [
    {
     "name": "stderr",
     "output_type": "stream",
     "text": [
      "\n",
      "Attaching package: ‘igraph’\n",
      "\n",
      "The following objects are masked from ‘package:stats’:\n",
      "\n",
      "    decompose, spectrum\n",
      "\n",
      "The following object is masked from ‘package:base’:\n",
      "\n",
      "    union\n",
      "\n"
     ]
    }
   ],
   "source": [
    "library(igraph)\n",
    "library(\"data.table\")\n",
    "library(plyr)"
   ]
  },
  {
   "cell_type": "code",
   "execution_count": 2,
   "metadata": {},
   "outputs": [],
   "source": [
    "df=data.frame()"
   ]
  },
  {
   "cell_type": "code",
   "execution_count": 3,
   "metadata": {},
   "outputs": [],
   "source": [
    "df=read.csv(\"a.csv\")"
   ]
  },
  {
   "cell_type": "code",
   "execution_count": 4,
   "metadata": {},
   "outputs": [
    {
     "data": {
      "text/html": [
       "<table>\n",
       "<thead><tr><th scope=col>X</th><th scope=col>X0</th><th scope=col>X1</th></tr></thead>\n",
       "<tbody>\n",
       "\t<tr><td>0   </td><td>2073</td><td> 806</td></tr>\n",
       "\t<tr><td>1   </td><td>2073</td><td>1177</td></tr>\n",
       "\t<tr><td>2   </td><td> 806</td><td>1177</td></tr>\n",
       "\t<tr><td>3   </td><td>1444</td><td>2017</td></tr>\n",
       "\t<tr><td>4   </td><td>1444</td><td> 583</td></tr>\n",
       "\t<tr><td>5   </td><td>2017</td><td> 583</td></tr>\n",
       "</tbody>\n",
       "</table>\n"
      ],
      "text/latex": [
       "\\begin{tabular}{r|lll}\n",
       " X & X0 & X1\\\\\n",
       "\\hline\n",
       "\t 0    & 2073 &  806\\\\\n",
       "\t 1    & 2073 & 1177\\\\\n",
       "\t 2    &  806 & 1177\\\\\n",
       "\t 3    & 1444 & 2017\\\\\n",
       "\t 4    & 1444 &  583\\\\\n",
       "\t 5    & 2017 &  583\\\\\n",
       "\\end{tabular}\n"
      ],
      "text/markdown": [
       "\n",
       "X | X0 | X1 | \n",
       "|---|---|---|---|---|---|\n",
       "| 0    | 2073 |  806 | \n",
       "| 1    | 2073 | 1177 | \n",
       "| 2    |  806 | 1177 | \n",
       "| 3    | 1444 | 2017 | \n",
       "| 4    | 1444 |  583 | \n",
       "| 5    | 2017 |  583 | \n",
       "\n",
       "\n"
      ],
      "text/plain": [
       "  X X0   X1  \n",
       "1 0 2073  806\n",
       "2 1 2073 1177\n",
       "3 2  806 1177\n",
       "4 3 1444 2017\n",
       "5 4 1444  583\n",
       "6 5 2017  583"
      ]
     },
     "metadata": {},
     "output_type": "display_data"
    }
   ],
   "source": [
    "head(df)"
   ]
  },
  {
   "cell_type": "code",
   "execution_count": 5,
   "metadata": {},
   "outputs": [
    {
     "data": {
      "text/html": [
       "5627"
      ],
      "text/latex": [
       "5627"
      ],
      "text/markdown": [
       "5627"
      ],
      "text/plain": [
       "[1] 5627"
      ]
     },
     "metadata": {},
     "output_type": "display_data"
    }
   ],
   "source": [
    "nrow(df)"
   ]
  },
  {
   "cell_type": "code",
   "execution_count": 6,
   "metadata": {},
   "outputs": [],
   "source": [
    "data<-fread(\"san_francisco-censustracts-2017-4-All-MonthlyAggregate.csv\", header=TRUE, sep=\",\",stringsAsFactors=FALSE)"
   ]
  },
  {
   "cell_type": "code",
   "execution_count": 7,
   "metadata": {},
   "outputs": [
    {
     "data": {
      "text/html": [
       "<table>\n",
       "<thead><tr><th scope=col>sourceid</th><th scope=col>dstid</th><th scope=col>month</th><th scope=col>mean_travel_time</th><th scope=col>standard_deviation_travel_time</th><th scope=col>geometric_mean_travel_time</th><th scope=col>geometric_standard_deviation_travel_time</th></tr></thead>\n",
       "<tbody>\n",
       "\t<tr><td> 434   </td><td> 906   </td><td>10     </td><td> 188.09</td><td>116.06 </td><td> 168.73</td><td>1.54   </td></tr>\n",
       "\t<tr><td>1311   </td><td>   3   </td><td>10     </td><td>1300.10</td><td>377.45 </td><td>1261.17</td><td>1.26   </td></tr>\n",
       "\t<tr><td>1736   </td><td>   2   </td><td>10     </td><td> 805.12</td><td>344.87 </td><td> 744.22</td><td>1.47   </td></tr>\n",
       "\t<tr><td> 560   </td><td>2375   </td><td>10     </td><td>1627.73</td><td>533.35 </td><td>1552.00</td><td>1.35   </td></tr>\n",
       "\t<tr><td>1628   </td><td>2367   </td><td>10     </td><td>1228.89</td><td>452.52 </td><td>1167.50</td><td>1.36   </td></tr>\n",
       "\t<tr><td>1938   </td><td>1952   </td><td>12     </td><td> 596.69</td><td>327.27 </td><td> 530.23</td><td>1.60   </td></tr>\n",
       "</tbody>\n",
       "</table>\n"
      ],
      "text/latex": [
       "\\begin{tabular}{r|lllllll}\n",
       " sourceid & dstid & month & mean\\_travel\\_time & standard\\_deviation\\_travel\\_time & geometric\\_mean\\_travel\\_time & geometric\\_standard\\_deviation\\_travel\\_time\\\\\n",
       "\\hline\n",
       "\t  434    &  906    & 10      &  188.09 & 116.06  &  168.73 & 1.54   \\\\\n",
       "\t 1311    &    3    & 10      & 1300.10 & 377.45  & 1261.17 & 1.26   \\\\\n",
       "\t 1736    &    2    & 10      &  805.12 & 344.87  &  744.22 & 1.47   \\\\\n",
       "\t  560    & 2375    & 10      & 1627.73 & 533.35  & 1552.00 & 1.35   \\\\\n",
       "\t 1628    & 2367    & 10      & 1228.89 & 452.52  & 1167.50 & 1.36   \\\\\n",
       "\t 1938    & 1952    & 12      &  596.69 & 327.27  &  530.23 & 1.60   \\\\\n",
       "\\end{tabular}\n"
      ],
      "text/markdown": [
       "\n",
       "sourceid | dstid | month | mean_travel_time | standard_deviation_travel_time | geometric_mean_travel_time | geometric_standard_deviation_travel_time | \n",
       "|---|---|---|---|---|---|\n",
       "|  434    |  906    | 10      |  188.09 | 116.06  |  168.73 | 1.54    | \n",
       "| 1311    |    3    | 10      | 1300.10 | 377.45  | 1261.17 | 1.26    | \n",
       "| 1736    |    2    | 10      |  805.12 | 344.87  |  744.22 | 1.47    | \n",
       "|  560    | 2375    | 10      | 1627.73 | 533.35  | 1552.00 | 1.35    | \n",
       "| 1628    | 2367    | 10      | 1228.89 | 452.52  | 1167.50 | 1.36    | \n",
       "| 1938    | 1952    | 12      |  596.69 | 327.27  |  530.23 | 1.60    | \n",
       "\n",
       "\n"
      ],
      "text/plain": [
       "  sourceid dstid month mean_travel_time standard_deviation_travel_time\n",
       "1  434      906  10     188.09          116.06                        \n",
       "2 1311        3  10    1300.10          377.45                        \n",
       "3 1736        2  10     805.12          344.87                        \n",
       "4  560     2375  10    1627.73          533.35                        \n",
       "5 1628     2367  10    1228.89          452.52                        \n",
       "6 1938     1952  12     596.69          327.27                        \n",
       "  geometric_mean_travel_time geometric_standard_deviation_travel_time\n",
       "1  168.73                    1.54                                    \n",
       "2 1261.17                    1.26                                    \n",
       "3  744.22                    1.47                                    \n",
       "4 1552.00                    1.35                                    \n",
       "5 1167.50                    1.36                                    \n",
       "6  530.23                    1.60                                    "
      ]
     },
     "metadata": {},
     "output_type": "display_data"
    }
   ],
   "source": [
    "head(data)"
   ]
  },
  {
   "cell_type": "code",
   "execution_count": 119,
   "metadata": {},
   "outputs": [
    {
     "data": {
      "text/html": [
       "<table>\n",
       "<thead><tr><th scope=col>sourceid</th><th scope=col>dstid</th><th scope=col>month</th><th scope=col>mean_travel_time</th><th scope=col>standard_deviation_travel_time</th><th scope=col>geometric_mean_travel_time</th><th scope=col>geometric_standard_deviation_travel_time</th></tr></thead>\n",
       "<tbody>\n",
       "</tbody>\n",
       "</table>\n"
      ],
      "text/latex": [
       "\\begin{tabular}{r|lllllll}\n",
       " sourceid & dstid & month & mean\\_travel\\_time & standard\\_deviation\\_travel\\_time & geometric\\_mean\\_travel\\_time & geometric\\_standard\\_deviation\\_travel\\_time\\\\\n",
       "\\hline\n",
       "\\end{tabular}\n"
      ],
      "text/markdown": [
       "\n",
       "sourceid | dstid | month | mean_travel_time | standard_deviation_travel_time | geometric_mean_travel_time | geometric_standard_deviation_travel_time | \n",
       "||\n",
       "\n",
       "\n"
      ],
      "text/plain": [
       "     sourceid dstid month mean_travel_time standard_deviation_travel_time\n",
       "     geometric_mean_travel_time geometric_standard_deviation_travel_time"
      ]
     },
     "metadata": {},
     "output_type": "display_data"
    }
   ],
   "source": [
    "data[which(data$sourceid ==246 & data$dstid==279 &month==12)]"
   ]
  },
  {
   "cell_type": "code",
   "execution_count": 117,
   "metadata": {},
   "outputs": [
    {
     "data": {
      "text/html": [
       "<table>\n",
       "<thead><tr><th scope=col>sourceid</th><th scope=col>dstid</th><th scope=col>month</th><th scope=col>mean_travel_time</th><th scope=col>standard_deviation_travel_time</th><th scope=col>geometric_mean_travel_time</th><th scope=col>geometric_standard_deviation_travel_time</th></tr></thead>\n",
       "<tbody>\n",
       "</tbody>\n",
       "</table>\n"
      ],
      "text/latex": [
       "\\begin{tabular}{r|lllllll}\n",
       " sourceid & dstid & month & mean\\_travel\\_time & standard\\_deviation\\_travel\\_time & geometric\\_mean\\_travel\\_time & geometric\\_standard\\_deviation\\_travel\\_time\\\\\n",
       "\\hline\n",
       "\\end{tabular}\n"
      ],
      "text/markdown": [
       "\n",
       "sourceid | dstid | month | mean_travel_time | standard_deviation_travel_time | geometric_mean_travel_time | geometric_standard_deviation_travel_time | \n",
       "||\n",
       "\n",
       "\n"
      ],
      "text/plain": [
       "     sourceid dstid month mean_travel_time standard_deviation_travel_time\n",
       "     geometric_mean_travel_time geometric_standard_deviation_travel_time"
      ]
     },
     "metadata": {},
     "output_type": "display_data"
    }
   ],
   "source": [
    "data[which(data$sourceid ==246' & data$dstid=='529' &month==12)]"
   ]
  },
  {
   "cell_type": "code",
   "execution_count": 128,
   "metadata": {},
   "outputs": [
    {
     "data": {
      "text/html": [
       "<table>\n",
       "<thead><tr><th scope=col>sourceid</th><th scope=col>dstid</th><th scope=col>month</th><th scope=col>mean_travel_time</th><th scope=col>standard_deviation_travel_time</th><th scope=col>geometric_mean_travel_time</th><th scope=col>geometric_standard_deviation_travel_time</th></tr></thead>\n",
       "<tbody>\n",
       "\t<tr><td>1204   </td><td>2383   </td><td>12     </td><td>3219.37</td><td>423.06 </td><td>3193.84</td><td>1.13   </td></tr>\n",
       "\t<tr><td>1418   </td><td>2383   </td><td>12     </td><td> 553.06</td><td> 98.01 </td><td> 546.11</td><td>1.16   </td></tr>\n",
       "\t<tr><td> 729   </td><td>2383   </td><td>12     </td><td> 634.17</td><td>105.30 </td><td> 626.89</td><td>1.16   </td></tr>\n",
       "\t<tr><td>1417   </td><td>2383   </td><td>12     </td><td> 458.09</td><td> 69.40 </td><td> 453.16</td><td>1.16   </td></tr>\n",
       "\t<tr><td> 150   </td><td>2383   </td><td>12     </td><td>1514.25</td><td>329.83 </td><td>1465.26</td><td>1.34   </td></tr>\n",
       "\t<tr><td>1148   </td><td>2383   </td><td>12     </td><td> 947.00</td><td>141.30 </td><td> 937.49</td><td>1.15   </td></tr>\n",
       "\t<tr><td>1132   </td><td>2383   </td><td>12     </td><td> 684.47</td><td>110.97 </td><td> 676.83</td><td>1.16   </td></tr>\n",
       "\t<tr><td>   5   </td><td>2383   </td><td>12     </td><td> 582.97</td><td>103.71 </td><td> 575.32</td><td>1.17   </td></tr>\n",
       "\t<tr><td>2288   </td><td>2383   </td><td>12     </td><td> 731.11</td><td>163.03 </td><td> 696.74</td><td>1.48   </td></tr>\n",
       "\t<tr><td> 926   </td><td>2383   </td><td>12     </td><td> 999.22</td><td>197.15 </td><td> 969.50</td><td>1.33   </td></tr>\n",
       "\t<tr><td>1814   </td><td>2383   </td><td>12     </td><td> 981.83</td><td>143.80 </td><td> 972.25</td><td>1.15   </td></tr>\n",
       "\t<tr><td>2398   </td><td>2383   </td><td>12     </td><td>2206.32</td><td>315.34 </td><td>2185.80</td><td>1.14   </td></tr>\n",
       "\t<tr><td> 804   </td><td>2383   </td><td>12     </td><td>1179.61</td><td>171.90 </td><td>1168.25</td><td>1.15   </td></tr>\n",
       "\t<tr><td>  25   </td><td>2383   </td><td>12     </td><td>2934.03</td><td>416.67 </td><td>2907.05</td><td>1.14   </td></tr>\n",
       "\t<tr><td>2295   </td><td>2383   </td><td>12     </td><td> 419.14</td><td> 49.50 </td><td> 415.89</td><td>1.14   </td></tr>\n",
       "\t<tr><td>2029   </td><td>2383   </td><td>12     </td><td>3770.19</td><td>552.71 </td><td>3734.61</td><td>1.14   </td></tr>\n",
       "\t<tr><td>1982   </td><td>2383   </td><td>12     </td><td>2944.13</td><td>420.11 </td><td>2917.06</td><td>1.14   </td></tr>\n",
       "\t<tr><td>1810   </td><td>2383   </td><td>12     </td><td> 862.25</td><td>130.68 </td><td> 853.57</td><td>1.15   </td></tr>\n",
       "\t<tr><td>2254   </td><td>2383   </td><td>12     </td><td>1768.47</td><td>393.22 </td><td>1686.90</td><td>1.47   </td></tr>\n",
       "\t<tr><td>2709   </td><td>2383   </td><td>12     </td><td>1288.71</td><td>195.73 </td><td>1274.99</td><td>1.15   </td></tr>\n",
       "\t<tr><td>2583   </td><td>2383   </td><td>12     </td><td> 346.00</td><td> 46.85 </td><td> 342.09</td><td>1.17   </td></tr>\n",
       "\t<tr><td>  92   </td><td>2383   </td><td>12     </td><td>1139.55</td><td>165.72 </td><td>1128.65</td><td>1.15   </td></tr>\n",
       "\t<tr><td> 366   </td><td>2383   </td><td>12     </td><td>2678.65</td><td>387.38 </td><td>2653.18</td><td>1.14   </td></tr>\n",
       "\t<tr><td>1415   </td><td>2383   </td><td>12     </td><td> 497.14</td><td>107.15 </td><td> 486.71</td><td>1.23   </td></tr>\n",
       "\t<tr><td>1412   </td><td>2383   </td><td>12     </td><td> 280.59</td><td> 53.35 </td><td> 265.12</td><td>1.60   </td></tr>\n",
       "\t<tr><td>  93   </td><td>2383   </td><td>12     </td><td>1743.03</td><td>274.88 </td><td>1723.62</td><td>1.16   </td></tr>\n",
       "\t<tr><td>1410   </td><td>2383   </td><td>12     </td><td> 153.64</td><td> 26.18 </td><td> 151.36</td><td>1.19   </td></tr>\n",
       "\t<tr><td>2568   </td><td>2383   </td><td>12     </td><td>1061.94</td><td>178.97 </td><td>1046.47</td><td>1.19   </td></tr>\n",
       "\t<tr><td>   6   </td><td>2383   </td><td>12     </td><td>2821.47</td><td>404.29 </td><td>2795.00</td><td>1.14   </td></tr>\n",
       "\t<tr><td> 451   </td><td>2383   </td><td>12     </td><td> 375.37</td><td> 47.99 </td><td> 371.78</td><td>1.16   </td></tr>\n",
       "\t<tr><td>1206   </td><td>2383   </td><td>12     </td><td>3465.20</td><td>530.55 </td><td>3429.60</td><td>1.15   </td></tr>\n",
       "\t<tr><td>   7   </td><td>2383   </td><td>12     </td><td>3008.27</td><td>422.72 </td><td>2981.22</td><td>1.14   </td></tr>\n",
       "</tbody>\n",
       "</table>\n"
      ],
      "text/latex": [
       "\\begin{tabular}{r|lllllll}\n",
       " sourceid & dstid & month & mean\\_travel\\_time & standard\\_deviation\\_travel\\_time & geometric\\_mean\\_travel\\_time & geometric\\_standard\\_deviation\\_travel\\_time\\\\\n",
       "\\hline\n",
       "\t 1204    & 2383    & 12      & 3219.37 & 423.06  & 3193.84 & 1.13   \\\\\n",
       "\t 1418    & 2383    & 12      &  553.06 &  98.01  &  546.11 & 1.16   \\\\\n",
       "\t  729    & 2383    & 12      &  634.17 & 105.30  &  626.89 & 1.16   \\\\\n",
       "\t 1417    & 2383    & 12      &  458.09 &  69.40  &  453.16 & 1.16   \\\\\n",
       "\t  150    & 2383    & 12      & 1514.25 & 329.83  & 1465.26 & 1.34   \\\\\n",
       "\t 1148    & 2383    & 12      &  947.00 & 141.30  &  937.49 & 1.15   \\\\\n",
       "\t 1132    & 2383    & 12      &  684.47 & 110.97  &  676.83 & 1.16   \\\\\n",
       "\t    5    & 2383    & 12      &  582.97 & 103.71  &  575.32 & 1.17   \\\\\n",
       "\t 2288    & 2383    & 12      &  731.11 & 163.03  &  696.74 & 1.48   \\\\\n",
       "\t  926    & 2383    & 12      &  999.22 & 197.15  &  969.50 & 1.33   \\\\\n",
       "\t 1814    & 2383    & 12      &  981.83 & 143.80  &  972.25 & 1.15   \\\\\n",
       "\t 2398    & 2383    & 12      & 2206.32 & 315.34  & 2185.80 & 1.14   \\\\\n",
       "\t  804    & 2383    & 12      & 1179.61 & 171.90  & 1168.25 & 1.15   \\\\\n",
       "\t   25    & 2383    & 12      & 2934.03 & 416.67  & 2907.05 & 1.14   \\\\\n",
       "\t 2295    & 2383    & 12      &  419.14 &  49.50  &  415.89 & 1.14   \\\\\n",
       "\t 2029    & 2383    & 12      & 3770.19 & 552.71  & 3734.61 & 1.14   \\\\\n",
       "\t 1982    & 2383    & 12      & 2944.13 & 420.11  & 2917.06 & 1.14   \\\\\n",
       "\t 1810    & 2383    & 12      &  862.25 & 130.68  &  853.57 & 1.15   \\\\\n",
       "\t 2254    & 2383    & 12      & 1768.47 & 393.22  & 1686.90 & 1.47   \\\\\n",
       "\t 2709    & 2383    & 12      & 1288.71 & 195.73  & 1274.99 & 1.15   \\\\\n",
       "\t 2583    & 2383    & 12      &  346.00 &  46.85  &  342.09 & 1.17   \\\\\n",
       "\t   92    & 2383    & 12      & 1139.55 & 165.72  & 1128.65 & 1.15   \\\\\n",
       "\t  366    & 2383    & 12      & 2678.65 & 387.38  & 2653.18 & 1.14   \\\\\n",
       "\t 1415    & 2383    & 12      &  497.14 & 107.15  &  486.71 & 1.23   \\\\\n",
       "\t 1412    & 2383    & 12      &  280.59 &  53.35  &  265.12 & 1.60   \\\\\n",
       "\t   93    & 2383    & 12      & 1743.03 & 274.88  & 1723.62 & 1.16   \\\\\n",
       "\t 1410    & 2383    & 12      &  153.64 &  26.18  &  151.36 & 1.19   \\\\\n",
       "\t 2568    & 2383    & 12      & 1061.94 & 178.97  & 1046.47 & 1.19   \\\\\n",
       "\t    6    & 2383    & 12      & 2821.47 & 404.29  & 2795.00 & 1.14   \\\\\n",
       "\t  451    & 2383    & 12      &  375.37 &  47.99  &  371.78 & 1.16   \\\\\n",
       "\t 1206    & 2383    & 12      & 3465.20 & 530.55  & 3429.60 & 1.15   \\\\\n",
       "\t    7    & 2383    & 12      & 3008.27 & 422.72  & 2981.22 & 1.14   \\\\\n",
       "\\end{tabular}\n"
      ],
      "text/markdown": [
       "\n",
       "sourceid | dstid | month | mean_travel_time | standard_deviation_travel_time | geometric_mean_travel_time | geometric_standard_deviation_travel_time | \n",
       "|---|---|---|---|---|---|---|---|---|---|---|---|---|---|---|---|---|---|---|---|---|---|---|---|---|---|---|---|---|---|---|---|\n",
       "| 1204    | 2383    | 12      | 3219.37 | 423.06  | 3193.84 | 1.13    | \n",
       "| 1418    | 2383    | 12      |  553.06 |  98.01  |  546.11 | 1.16    | \n",
       "|  729    | 2383    | 12      |  634.17 | 105.30  |  626.89 | 1.16    | \n",
       "| 1417    | 2383    | 12      |  458.09 |  69.40  |  453.16 | 1.16    | \n",
       "|  150    | 2383    | 12      | 1514.25 | 329.83  | 1465.26 | 1.34    | \n",
       "| 1148    | 2383    | 12      |  947.00 | 141.30  |  937.49 | 1.15    | \n",
       "| 1132    | 2383    | 12      |  684.47 | 110.97  |  676.83 | 1.16    | \n",
       "|    5    | 2383    | 12      |  582.97 | 103.71  |  575.32 | 1.17    | \n",
       "| 2288    | 2383    | 12      |  731.11 | 163.03  |  696.74 | 1.48    | \n",
       "|  926    | 2383    | 12      |  999.22 | 197.15  |  969.50 | 1.33    | \n",
       "| 1814    | 2383    | 12      |  981.83 | 143.80  |  972.25 | 1.15    | \n",
       "| 2398    | 2383    | 12      | 2206.32 | 315.34  | 2185.80 | 1.14    | \n",
       "|  804    | 2383    | 12      | 1179.61 | 171.90  | 1168.25 | 1.15    | \n",
       "|   25    | 2383    | 12      | 2934.03 | 416.67  | 2907.05 | 1.14    | \n",
       "| 2295    | 2383    | 12      |  419.14 |  49.50  |  415.89 | 1.14    | \n",
       "| 2029    | 2383    | 12      | 3770.19 | 552.71  | 3734.61 | 1.14    | \n",
       "| 1982    | 2383    | 12      | 2944.13 | 420.11  | 2917.06 | 1.14    | \n",
       "| 1810    | 2383    | 12      |  862.25 | 130.68  |  853.57 | 1.15    | \n",
       "| 2254    | 2383    | 12      | 1768.47 | 393.22  | 1686.90 | 1.47    | \n",
       "| 2709    | 2383    | 12      | 1288.71 | 195.73  | 1274.99 | 1.15    | \n",
       "| 2583    | 2383    | 12      |  346.00 |  46.85  |  342.09 | 1.17    | \n",
       "|   92    | 2383    | 12      | 1139.55 | 165.72  | 1128.65 | 1.15    | \n",
       "|  366    | 2383    | 12      | 2678.65 | 387.38  | 2653.18 | 1.14    | \n",
       "| 1415    | 2383    | 12      |  497.14 | 107.15  |  486.71 | 1.23    | \n",
       "| 1412    | 2383    | 12      |  280.59 |  53.35  |  265.12 | 1.60    | \n",
       "|   93    | 2383    | 12      | 1743.03 | 274.88  | 1723.62 | 1.16    | \n",
       "| 1410    | 2383    | 12      |  153.64 |  26.18  |  151.36 | 1.19    | \n",
       "| 2568    | 2383    | 12      | 1061.94 | 178.97  | 1046.47 | 1.19    | \n",
       "|    6    | 2383    | 12      | 2821.47 | 404.29  | 2795.00 | 1.14    | \n",
       "|  451    | 2383    | 12      |  375.37 |  47.99  |  371.78 | 1.16    | \n",
       "| 1206    | 2383    | 12      | 3465.20 | 530.55  | 3429.60 | 1.15    | \n",
       "|    7    | 2383    | 12      | 3008.27 | 422.72  | 2981.22 | 1.14    | \n",
       "\n",
       "\n"
      ],
      "text/plain": [
       "   sourceid dstid month mean_travel_time standard_deviation_travel_time\n",
       "1  1204     2383  12    3219.37          423.06                        \n",
       "2  1418     2383  12     553.06           98.01                        \n",
       "3   729     2383  12     634.17          105.30                        \n",
       "4  1417     2383  12     458.09           69.40                        \n",
       "5   150     2383  12    1514.25          329.83                        \n",
       "6  1148     2383  12     947.00          141.30                        \n",
       "7  1132     2383  12     684.47          110.97                        \n",
       "8     5     2383  12     582.97          103.71                        \n",
       "9  2288     2383  12     731.11          163.03                        \n",
       "10  926     2383  12     999.22          197.15                        \n",
       "11 1814     2383  12     981.83          143.80                        \n",
       "12 2398     2383  12    2206.32          315.34                        \n",
       "13  804     2383  12    1179.61          171.90                        \n",
       "14   25     2383  12    2934.03          416.67                        \n",
       "15 2295     2383  12     419.14           49.50                        \n",
       "16 2029     2383  12    3770.19          552.71                        \n",
       "17 1982     2383  12    2944.13          420.11                        \n",
       "18 1810     2383  12     862.25          130.68                        \n",
       "19 2254     2383  12    1768.47          393.22                        \n",
       "20 2709     2383  12    1288.71          195.73                        \n",
       "21 2583     2383  12     346.00           46.85                        \n",
       "22   92     2383  12    1139.55          165.72                        \n",
       "23  366     2383  12    2678.65          387.38                        \n",
       "24 1415     2383  12     497.14          107.15                        \n",
       "25 1412     2383  12     280.59           53.35                        \n",
       "26   93     2383  12    1743.03          274.88                        \n",
       "27 1410     2383  12     153.64           26.18                        \n",
       "28 2568     2383  12    1061.94          178.97                        \n",
       "29    6     2383  12    2821.47          404.29                        \n",
       "30  451     2383  12     375.37           47.99                        \n",
       "31 1206     2383  12    3465.20          530.55                        \n",
       "32    7     2383  12    3008.27          422.72                        \n",
       "   geometric_mean_travel_time geometric_standard_deviation_travel_time\n",
       "1  3193.84                    1.13                                    \n",
       "2   546.11                    1.16                                    \n",
       "3   626.89                    1.16                                    \n",
       "4   453.16                    1.16                                    \n",
       "5  1465.26                    1.34                                    \n",
       "6   937.49                    1.15                                    \n",
       "7   676.83                    1.16                                    \n",
       "8   575.32                    1.17                                    \n",
       "9   696.74                    1.48                                    \n",
       "10  969.50                    1.33                                    \n",
       "11  972.25                    1.15                                    \n",
       "12 2185.80                    1.14                                    \n",
       "13 1168.25                    1.15                                    \n",
       "14 2907.05                    1.14                                    \n",
       "15  415.89                    1.14                                    \n",
       "16 3734.61                    1.14                                    \n",
       "17 2917.06                    1.14                                    \n",
       "18  853.57                    1.15                                    \n",
       "19 1686.90                    1.47                                    \n",
       "20 1274.99                    1.15                                    \n",
       "21  342.09                    1.17                                    \n",
       "22 1128.65                    1.15                                    \n",
       "23 2653.18                    1.14                                    \n",
       "24  486.71                    1.23                                    \n",
       "25  265.12                    1.60                                    \n",
       "26 1723.62                    1.16                                    \n",
       "27  151.36                    1.19                                    \n",
       "28 1046.47                    1.19                                    \n",
       "29 2795.00                    1.14                                    \n",
       "30  371.78                    1.16                                    \n",
       "31 3429.60                    1.15                                    \n",
       "32 2981.22                    1.14                                    "
      ]
     },
     "metadata": {},
     "output_type": "display_data"
    }
   ],
   "source": [
    "data[which(data$dstid =='2383' &month==12)]"
   ]
  },
  {
   "cell_type": "code",
   "execution_count": 103,
   "metadata": {},
   "outputs": [
    {
     "data": {
      "text/html": [
       "<table>\n",
       "<thead><tr><th scope=col>sourceid</th><th scope=col>dstid</th><th scope=col>month</th><th scope=col>mean_travel_time</th><th scope=col>standard_deviation_travel_time</th><th scope=col>geometric_mean_travel_time</th><th scope=col>geometric_standard_deviation_travel_time</th></tr></thead>\n",
       "<tbody>\n",
       "\t<tr><td>1746  </td><td>1747  </td><td>12    </td><td>123.66</td><td>213.04</td><td>45.75 </td><td>4.49  </td></tr>\n",
       "</tbody>\n",
       "</table>\n"
      ],
      "text/latex": [
       "\\begin{tabular}{r|lllllll}\n",
       " sourceid & dstid & month & mean\\_travel\\_time & standard\\_deviation\\_travel\\_time & geometric\\_mean\\_travel\\_time & geometric\\_standard\\_deviation\\_travel\\_time\\\\\n",
       "\\hline\n",
       "\t 1746   & 1747   & 12     & 123.66 & 213.04 & 45.75  & 4.49  \\\\\n",
       "\\end{tabular}\n"
      ],
      "text/markdown": [
       "\n",
       "sourceid | dstid | month | mean_travel_time | standard_deviation_travel_time | geometric_mean_travel_time | geometric_standard_deviation_travel_time | \n",
       "|---|\n",
       "| 1746   | 1747   | 12     | 123.66 | 213.04 | 45.75  | 4.49   | \n",
       "\n",
       "\n"
      ],
      "text/plain": [
       "  sourceid dstid month mean_travel_time standard_deviation_travel_time\n",
       "1 1746     1747  12    123.66           213.04                        \n",
       "  geometric_mean_travel_time geometric_standard_deviation_travel_time\n",
       "1 45.75                      4.49                                    "
      ]
     },
     "metadata": {},
     "output_type": "display_data"
    }
   ],
   "source": [
    "data[which(data$sourceid =='1746' & data$dstid=='' &month==12)]"
   ]
  },
  {
   "cell_type": "code",
   "execution_count": 8,
   "metadata": {},
   "outputs": [
    {
     "data": {
      "text/html": [
       "<table>\n",
       "<thead><tr><th scope=col>data_needed.data.sourceid</th><th scope=col>data_needed.data.dstid</th><th scope=col>data_needed.data.mean_travel_time</th></tr></thead>\n",
       "<tbody>\n",
       "\t<tr><td>1938   </td><td>1952   </td><td> 596.69</td></tr>\n",
       "\t<tr><td>1747   </td><td> 629   </td><td>1454.81</td></tr>\n",
       "\t<tr><td>1872   </td><td>1919   </td><td>1227.01</td></tr>\n",
       "\t<tr><td>1871   </td><td>1929   </td><td>1005.54</td></tr>\n",
       "\t<tr><td>  81   </td><td>2319   </td><td> 474.53</td></tr>\n",
       "\t<tr><td>1873   </td><td>1909   </td><td>1164.51</td></tr>\n",
       "</tbody>\n",
       "</table>\n"
      ],
      "text/latex": [
       "\\begin{tabular}{r|lll}\n",
       " data\\_needed.data.sourceid & data\\_needed.data.dstid & data\\_needed.data.mean\\_travel\\_time\\\\\n",
       "\\hline\n",
       "\t 1938    & 1952    &  596.69\\\\\n",
       "\t 1747    &  629    & 1454.81\\\\\n",
       "\t 1872    & 1919    & 1227.01\\\\\n",
       "\t 1871    & 1929    & 1005.54\\\\\n",
       "\t   81    & 2319    &  474.53\\\\\n",
       "\t 1873    & 1909    & 1164.51\\\\\n",
       "\\end{tabular}\n"
      ],
      "text/markdown": [
       "\n",
       "data_needed.data.sourceid | data_needed.data.dstid | data_needed.data.mean_travel_time | \n",
       "|---|---|---|---|---|---|\n",
       "| 1938    | 1952    |  596.69 | \n",
       "| 1747    |  629    | 1454.81 | \n",
       "| 1872    | 1919    | 1227.01 | \n",
       "| 1871    | 1929    | 1005.54 | \n",
       "|   81    | 2319    |  474.53 | \n",
       "| 1873    | 1909    | 1164.51 | \n",
       "\n",
       "\n"
      ],
      "text/plain": [
       "  data_needed.data.sourceid data_needed.data.dstid\n",
       "1 1938                      1952                  \n",
       "2 1747                       629                  \n",
       "3 1872                      1919                  \n",
       "4 1871                      1929                  \n",
       "5   81                      2319                  \n",
       "6 1873                      1909                  \n",
       "  data_needed.data.mean_travel_time\n",
       "1  596.69                          \n",
       "2 1454.81                          \n",
       "3 1227.01                          \n",
       "4 1005.54                          \n",
       "5  474.53                          \n",
       "6 1164.51                          "
      ]
     },
     "metadata": {},
     "output_type": "display_data"
    },
    {
     "data": {
      "text/html": [
       "538998"
      ],
      "text/latex": [
       "538998"
      ],
      "text/markdown": [
       "538998"
      ],
      "text/plain": [
       "[1] 538998"
      ]
     },
     "metadata": {},
     "output_type": "display_data"
    },
    {
     "data": {
      "text/html": [
       "<table>\n",
       "<thead><tr><th scope=col>properties.MOVEMENT_ID</th><th scope=col>properties.DISPLAY_NAME</th></tr></thead>\n",
       "<tbody>\n",
       "\t<tr><td>1                                                    </td><td>Sargent Creek, San Ardo                              </td></tr>\n",
       "\t<tr><td>2                                                    </td><td>400 Northumberland Avenue, Redwood Oaks, Redwood City</td></tr>\n",
       "\t<tr><td>3                                                    </td><td>18300 Sutter Boulevard, Morgan Hill                  </td></tr>\n",
       "\t<tr><td>4                                                    </td><td>2700 Stoughton Way, Sheffield, Sacramento            </td></tr>\n",
       "\t<tr><td>5                                                    </td><td>3200 Huntsman Drive, Rosemont Park, Sacramento       </td></tr>\n",
       "\t<tr><td>6                                                    </td><td>100 Carlsbad Circle, Vacaville                       </td></tr>\n",
       "</tbody>\n",
       "</table>\n"
      ],
      "text/latex": [
       "\\begin{tabular}{r|ll}\n",
       " properties.MOVEMENT\\_ID & properties.DISPLAY\\_NAME\\\\\n",
       "\\hline\n",
       "\t 1                                                     & Sargent Creek, San Ardo                              \\\\\n",
       "\t 2                                                     & 400 Northumberland Avenue, Redwood Oaks, Redwood City\\\\\n",
       "\t 3                                                     & 18300 Sutter Boulevard, Morgan Hill                  \\\\\n",
       "\t 4                                                     & 2700 Stoughton Way, Sheffield, Sacramento            \\\\\n",
       "\t 5                                                     & 3200 Huntsman Drive, Rosemont Park, Sacramento       \\\\\n",
       "\t 6                                                     & 100 Carlsbad Circle, Vacaville                       \\\\\n",
       "\\end{tabular}\n"
      ],
      "text/markdown": [
       "\n",
       "properties.MOVEMENT_ID | properties.DISPLAY_NAME | \n",
       "|---|---|---|---|---|---|\n",
       "| 1                                                     | Sargent Creek, San Ardo                               | \n",
       "| 2                                                     | 400 Northumberland Avenue, Redwood Oaks, Redwood City | \n",
       "| 3                                                     | 18300 Sutter Boulevard, Morgan Hill                   | \n",
       "| 4                                                     | 2700 Stoughton Way, Sheffield, Sacramento             | \n",
       "| 5                                                     | 3200 Huntsman Drive, Rosemont Park, Sacramento        | \n",
       "| 6                                                     | 100 Carlsbad Circle, Vacaville                        | \n",
       "\n",
       "\n"
      ],
      "text/plain": [
       "  properties.MOVEMENT_ID properties.DISPLAY_NAME                              \n",
       "1 1                      Sargent Creek, San Ardo                              \n",
       "2 2                      400 Northumberland Avenue, Redwood Oaks, Redwood City\n",
       "3 3                      18300 Sutter Boulevard, Morgan Hill                  \n",
       "4 4                      2700 Stoughton Way, Sheffield, Sacramento            \n",
       "5 5                      3200 Huntsman Drive, Rosemont Park, Sacramento       \n",
       "6 6                      100 Carlsbad Circle, Vacaville                       "
      ]
     },
     "metadata": {},
     "output_type": "display_data"
    },
    {
     "data": {
      "text/html": [
       "<table>\n",
       "<thead><tr><th scope=col>V1</th><th scope=col>V2</th><th scope=col>V3</th></tr></thead>\n",
       "<tbody>\n",
       "\t<tr><td>1        </td><td>-120.7887</td><td>36.07163 </td></tr>\n",
       "\t<tr><td>2        </td><td>-122.2194</td><td>37.46958 </td></tr>\n",
       "\t<tr><td>3        </td><td>-121.6602</td><td>37.15048 </td></tr>\n",
       "\t<tr><td>4        </td><td>-121.3428</td><td>38.57307 </td></tr>\n",
       "\t<tr><td>5        </td><td>-121.3617</td><td>38.55443 </td></tr>\n",
       "\t<tr><td>6        </td><td>-121.9484</td><td>38.36665 </td></tr>\n",
       "</tbody>\n",
       "</table>\n"
      ],
      "text/latex": [
       "\\begin{tabular}{r|lll}\n",
       " V1 & V2 & V3\\\\\n",
       "\\hline\n",
       "\t 1         & -120.7887 & 36.07163 \\\\\n",
       "\t 2         & -122.2194 & 37.46958 \\\\\n",
       "\t 3         & -121.6602 & 37.15048 \\\\\n",
       "\t 4         & -121.3428 & 38.57307 \\\\\n",
       "\t 5         & -121.3617 & 38.55443 \\\\\n",
       "\t 6         & -121.9484 & 38.36665 \\\\\n",
       "\\end{tabular}\n"
      ],
      "text/markdown": [
       "\n",
       "V1 | V2 | V3 | \n",
       "|---|---|---|---|---|---|\n",
       "| 1         | -120.7887 | 36.07163  | \n",
       "| 2         | -122.2194 | 37.46958  | \n",
       "| 3         | -121.6602 | 37.15048  | \n",
       "| 4         | -121.3428 | 38.57307  | \n",
       "| 5         | -121.3617 | 38.55443  | \n",
       "| 6         | -121.9484 | 38.36665  | \n",
       "\n",
       "\n"
      ],
      "text/plain": [
       "  V1 V2        V3      \n",
       "1 1  -120.7887 36.07163\n",
       "2 2  -122.2194 37.46958\n",
       "3 3  -121.6602 37.15048\n",
       "4 4  -121.3428 38.57307\n",
       "5 5  -121.3617 38.55443\n",
       "6 6  -121.9484 38.36665"
      ]
     },
     "metadata": {},
     "output_type": "display_data"
    }
   ],
   "source": [
    "data_needed=data.frame(data$sourceid,data$dstid,data$month,data$mean_travel_time)\n",
    "data_needed= subset(data_needed, data.month == \"12\")\n",
    "data_needed=data.frame(data_needed$data.sourceid,data_needed$data.dstid,data_needed$data.mean_travel_time)\n",
    "head(data_needed)\n",
    "nrow(data_needed)\n",
    "colnames(data_needed) <- c(\"sourceid\", \"dstid\",\"weight\")\n",
    "gold<-graph_from_data_frame(data_needed, directed=FALSE)\n",
    "location<-fread(\"location.csv\", header=TRUE, sep=\",\",stringsAsFactors=FALSE)\n",
    "head(location)\n",
    "coordinates<-fread(\"coordinates.txt\", header=FALSE, sep=\"\\t\",stringsAsFactors=FALSE)\n",
    "head(coordinates)\n",
    "vector = c()\n",
    "\n",
    "for(i in 1: length(V(gold)))\n",
    "{   vector[i]=location$properties.DISPLAY_NAME[location$properties.MOVEMENT_ID==get.vertex.attribute(gold, \"name\",i)]\n",
    "}\n",
    "gold<-set_vertex_attr(gold, 'location', index = V(gold), vector)\n",
    "\n",
    "\n",
    "for(i in 1: length(V(gold)))\n",
    "{   vec=c()\n",
    "    vec[1]=coordinates$V2[coordinates$V1==get.vertex.attribute(gold, \"name\",i)]\n",
    "    vec[2]=coordinates$V3[coordinates$V1==get.vertex.attribute(gold, \"name\",i)]\n",
    "    gold <- set.vertex.attribute(gold, 'coordinates', i, list(vec))\n",
    "}"
   ]
  },
  {
   "cell_type": "code",
   "execution_count": 9,
   "metadata": {},
   "outputs": [],
   "source": [
    "c1<-clusters(gold)\n",
    "largest_g<-induced.subgraph(gold, which(c1$membership == which.max(c1$csize)))\n",
    "largest_g<-simplify(largest_g, edge.attr.comb=\"mean\",remove.multiple=TRUE)"
   ]
  },
  {
   "cell_type": "code",
   "execution_count": 105,
   "metadata": {},
   "outputs": [
    {
     "data": {
      "text/html": [
       "0"
      ],
      "text/latex": [
       "0"
      ],
      "text/markdown": [
       "0"
      ],
      "text/plain": [
       "[1] 0"
      ]
     },
     "metadata": {},
     "output_type": "display_data"
    },
    {
     "data": {
      "text/plain": [
       "$vpath\n",
       "$vpath[[1]]\n",
       "+ 4/1880 vertices, named, from 5234595:\n",
       "[1] 2170 832  156  564 \n",
       "\n",
       "\n",
       "$epath\n",
       "NULL\n",
       "\n",
       "$predecessors\n",
       "NULL\n",
       "\n",
       "$inbound_edges\n",
       "NULL\n"
      ]
     },
     "metadata": {},
     "output_type": "display_data"
    }
   ],
   "source": [
    "nrow(data[which(data$sourceid == 806 & data&dstid == 2073), 4])\n",
    "#nrow(data[which(data$sourceid == src & data&dstid == dst), 4])\n",
    "shortest_paths(largest_g,434,906)"
   ]
  },
  {
   "cell_type": "code",
   "execution_count": 98,
   "metadata": {},
   "outputs": [
    {
     "data": {
      "text/html": [
       "2923.59"
      ],
      "text/latex": [
       "2923.59"
      ],
      "text/markdown": [
       "2923.59"
      ],
      "text/plain": [
       "[1] 2923.59"
      ]
     },
     "metadata": {},
     "output_type": "display_data"
    }
   ],
   "source": [
    "E(largest_g)$weight[1]"
   ]
  },
  {
   "cell_type": "code",
   "execution_count": 95,
   "metadata": {},
   "outputs": [
    {
     "ename": "ERROR",
     "evalue": "Error in parse(text = x, srcfile = src): <text>:1:33: unexpected '['\n1: E(largest_g)[which(E(largest_g)$[\n                                    ^\n",
     "output_type": "error",
     "traceback": [
      "Error in parse(text = x, srcfile = src): <text>:1:33: unexpected '['\n1: E(largest_g)[which(E(largest_g)$[\n                                    ^\nTraceback:\n"
     ]
    }
   ],
   "source": [
    "E(largest_g)[which(E(largest_g)$[1]='1938--1747'), ]"
   ]
  },
  {
   "cell_type": "code",
   "execution_count": 100,
   "metadata": {},
   "outputs": [
    {
     "data": {
      "text/plain": [
       "$vpath\n",
       "$vpath[[1]]\n",
       "+ 4/1880 vertices, named, from 5234595:\n",
       "[1] 1938 1241 1746 1747\n",
       "\n",
       "\n",
       "$epath\n",
       "NULL\n",
       "\n",
       "$predecessors\n",
       "NULL\n",
       "\n",
       "$inbound_edges\n",
       "NULL\n"
      ]
     },
     "metadata": {},
     "output_type": "display_data"
    }
   ],
   "source": [
    "shortest_paths(largest_g,'1938','1747')"
   ]
  },
  {
   "cell_type": "code",
   "execution_count": 107,
   "metadata": {},
   "outputs": [
    {
     "data": {
      "text/html": [
       "'2170'"
      ],
      "text/latex": [
       "'2170'"
      ],
      "text/markdown": [
       "'2170'"
      ],
      "text/plain": [
       "[1] \"2170\""
      ]
     },
     "metadata": {},
     "output_type": "display_data"
    }
   ],
   "source": [
    "V(largest_g)$name[434]"
   ]
  },
  {
   "cell_type": "code",
   "execution_count": 57,
   "metadata": {},
   "outputs": [
    {
     "name": "stdout",
     "output_type": "stream",
     "text": [
      "[1] 2073  806\n"
     ]
    },
    {
     "data": {
      "text/plain": [
       "$vpath\n",
       "$vpath[[1]]\n",
       "+ 13/1880 vertices, named, from 5234595:\n",
       " [1] 2383 2295 2538 1635 2368 1620 2329 432  1712 1954 2446 2425 583 \n",
       "\n",
       "\n",
       "$epath\n",
       "NULL\n",
       "\n",
       "$predecessors\n",
       "NULL\n",
       "\n",
       "$inbound_edges\n",
       "NULL\n"
      ]
     },
     "metadata": {},
     "output_type": "display_data"
    }
   ],
   "source": [
    "row <- df[1,]\n",
    "rsrc=row['X0']\n",
    "rdst=row['X1']\n",
    "nsrc=as.numeric(unlist(rsrc))\n",
    "ndst=as.numeric(unlist(rdst))\n",
    "print(c(nsrc,ndst))\n",
    "#print(tostring(nsrc))\n",
    "shortest_paths(largest_g,'2383','583')"
   ]
  },
  {
   "cell_type": "code",
   "execution_count": 151,
   "metadata": {},
   "outputs": [
    {
     "name": "stdout",
     "output_type": "stream",
     "text": [
      "[1] \"if\"\n",
      "[1] 287.19\n"
     ]
    }
   ],
   "source": [
    "sum=0\n",
    "s1 = '2425'\n",
    "s2 = '583'\n",
    "if(nrow(data[which(data$sourceid == s1 & data$dstid == s2), 4])!=0)\n",
    "{\n",
    "    print('if')\n",
    "    dddd=as.numeric(unlist(data[which(data$sourceid == s1 & data$dstid == s2 &month==12), 4]))\n",
    "    print(dddd)\n",
    "    sum = sum + as.numeric(unlist(data[which(data$sourceid == s1 & data$dstid == s2), 4]))\n",
    "}else if(nrow(data[which(data$sourceid == s2 & data$dstid == s1), 4])!=0)\n",
    "{\n",
    "    print('else')\n",
    "    sum = sum + as.numeric(unlist(data[which(data$sourceid == s2 & data$dstid == s1), 4]))\n",
    "}"
   ]
  },
  {
   "cell_type": "code",
   "execution_count": 148,
   "metadata": {},
   "outputs": [
    {
     "data": {
      "text/html": [
       "280.81"
      ],
      "text/latex": [
       "280.81"
      ],
      "text/markdown": [
       "280.81"
      ],
      "text/plain": [
       "[1] 280.81"
      ]
     },
     "metadata": {},
     "output_type": "display_data"
    }
   ],
   "source": [
    "sum[2]"
   ]
  },
  {
   "cell_type": "code",
   "execution_count": 72,
   "metadata": {},
   "outputs": [
    {
     "name": "stdout",
     "output_type": "stream",
     "text": [
      "numeric(0)\n"
     ]
    }
   ],
   "source": [
    "print(as.numeric(unlist(data[which(data$sourceid ==1858  & data$dstid == 1806), 4])))"
   ]
  },
  {
   "cell_type": "code",
   "execution_count": null,
   "metadata": {},
   "outputs": [],
   "source": [
    "wt = c()\n",
    "for(i in 1:nrow(df)) {\n",
    "#     print(i)\n",
    "    row <- df[i,]\n",
    "    rsrc=row['X0']\n",
    "    rdst=row['X1']\n",
    "    nsrc=as.numeric(unlist(rsrc))\n",
    "    ndst=as.numeric(unlist(rdst))\n",
    "    src=as.character(nsrc)\n",
    "    dst=as.character(ndst)\n",
    "    if(nrow(data[which(data$sourceid == src & data$dstid == dst &month==12), 4])!=0)\n",
    "    {\n",
    "        mtt=as.numeric(data[which(data$sourceid == src & data$dstid == dst &month==12), 4])\n",
    "        \n",
    "    }\n",
    "    else if(nrow(data[which(data$sourceid == dst & data$dstid == src &month==12), 4])!=0)\n",
    "    {\n",
    "        mtt=as.numeric(data[which(data$sourceid == dst & data$dstid == src &month==12), 4])\n",
    "    }\n",
    "    else\n",
    "    {\n",
    "        sum = 0\n",
    "        print(c(src,dst))\n",
    "        sp=shortest_paths(largest_g,src,dst)\n",
    "        for(i in 1:(length(sp$vpath[[1]])-1)) {\n",
    "            print(sp$vpath[[1]][i])\n",
    "            s1 = as.character(sp$vpath[[1]][i])\n",
    "            s2 = as.character(sp$vpath[[1]][i+1])\n",
    "            if(nrow(data[which(data$sourceid == s1 & data$dstid == s2 &month==12), 4])!=0)\n",
    "            {\n",
    "                sum = sum + as.numeric(unlist(data[which(data$sourceid == s1 & data$dstid == s2 &month==12), 4]))\n",
    "\n",
    "            }\n",
    "            else if(nrow(data[which(data$sourceid == s2 & data$dstid == s1 &month==12), 4])!=0)\n",
    "            {\n",
    "                sum = sum + as.numeric(unlist(data[which(data$sourceid == s2 & data$dstid == s1 &month==12), 4]))\n",
    "            }\n",
    "        }\n",
    "            \n",
    "        mtt = sum\n",
    "    }\n",
    "    \n",
    "    wt = c(wt,mtt)\n",
    "}"
   ]
  },
  {
   "cell_type": "code",
   "execution_count": null,
   "metadata": {},
   "outputs": [],
   "source": [
    "wt"
   ]
  },
  {
   "cell_type": "code",
   "execution_count": null,
   "metadata": {},
   "outputs": [],
   "source": [
    "length(wt)"
   ]
  },
  {
   "cell_type": "code",
   "execution_count": null,
   "metadata": {},
   "outputs": [],
   "source": [
    "nrow(df)"
   ]
  },
  {
   "cell_type": "code",
   "execution_count": 53,
   "metadata": {},
   "outputs": [
    {
     "data": {
      "text/html": [
       "7"
      ],
      "text/latex": [
       "7"
      ],
      "text/markdown": [
       "7"
      ],
      "text/plain": [
       "[1] 7"
      ]
     },
     "metadata": {},
     "output_type": "display_data"
    }
   ],
   "source": [
    "sp = shortest_paths(largest_g,'2606','1967')\n",
    "length(sp$vpath[[1]])-1"
   ]
  },
  {
   "cell_type": "code",
   "execution_count": 54,
   "metadata": {},
   "outputs": [
    {
     "data": {
      "text/plain": [
       "$vpath\n",
       "$vpath[[1]]\n",
       "+ 8/1880 vertices, named, from 5234595:\n",
       "[1] 1967 1439 1935 2441 1257 1258 964  2606\n",
       "\n",
       "\n",
       "$epath\n",
       "NULL\n",
       "\n",
       "$predecessors\n",
       "NULL\n",
       "\n",
       "$inbound_edges\n",
       "NULL\n"
      ]
     },
     "metadata": {},
     "output_type": "display_data"
    }
   ],
   "source": [
    "shortest_paths(largest_g,'1967','2606')"
   ]
  },
  {
   "cell_type": "code",
   "execution_count": null,
   "metadata": {},
   "outputs": [],
   "source": [
    "sp"
   ]
  },
  {
   "cell_type": "code",
   "execution_count": null,
   "metadata": {},
   "outputs": [],
   "source": [
    "dd=shortest_paths(largest_g,'1967','2606')\n",
    "dd$vpath[[1]][1]"
   ]
  },
  {
   "cell_type": "code",
   "execution_count": null,
   "metadata": {},
   "outputs": [],
   "source": [
    "for(i in 1:nrow(df)) {\n",
    "    row <- df[i,]\n",
    "    df[which(df$Amount == min(df$Amount)), ]\n",
    "    gg=data[which(data$sourceid == row['X0']),]\n",
    "    print(gg)\n",
    "    # do stuff with row\n",
    "}"
   ]
  },
  {
   "cell_type": "code",
   "execution_count": null,
   "metadata": {},
   "outputs": [],
   "source": [
    "g=graph_from_data_frame(df,directed = FALSE)"
   ]
  },
  {
   "cell_type": "code",
   "execution_count": null,
   "metadata": {},
   "outputs": [],
   "source": [
    "edge_attr(g,\"weight\")"
   ]
  },
  {
   "cell_type": "code",
   "execution_count": null,
   "metadata": {},
   "outputs": [],
   "source": [
    "V(g)$name[2073]"
   ]
  },
  {
   "cell_type": "code",
   "execution_count": null,
   "metadata": {},
   "outputs": [],
   "source": [
    "V(g)$name[neighbors(g,'2073')]"
   ]
  },
  {
   "cell_type": "code",
   "execution_count": null,
   "metadata": {},
   "outputs": [],
   "source": [
    "list.vertex.attributes(g)"
   ]
  },
  {
   "cell_type": "code",
   "execution_count": null,
   "metadata": {},
   "outputs": [],
   "source": [
    "as.numeric(Vac='1'\n",
    "edge_id = get.edge.ids(g,c('0','1'),directed = TRUE)\n",
    "print(edge_id)\n",
    "wt=edge_attr(g, \"weight\", edge_id)\n",
    "print(wt)(g)[\"2607\"])"
   ]
  },
  {
   "cell_type": "code",
   "execution_count": null,
   "metadata": {},
   "outputs": [],
   "source": [
    "shortest_paths(g, 2607, 1968)"
   ]
  },
  {
   "cell_type": "code",
   "execution_count": null,
   "metadata": {},
   "outputs": [],
   "source": [
    "check= subset(data, sourceid == \"2607\")\n",
    "check1=subset(check, dstid == \"24\")"
   ]
  },
  {
   "cell_type": "code",
   "execution_count": null,
   "metadata": {},
   "outputs": [],
   "source": [
    "head(check1)"
   ]
  },
  {
   "cell_type": "code",
   "execution_count": 115,
   "metadata": {},
   "outputs": [
    {
     "data": {
      "text/html": [
       "279"
      ],
      "text/latex": [
       "279"
      ],
      "text/markdown": [
       "279"
      ],
      "text/plain": [
       "[1] 279"
      ]
     },
     "metadata": {},
     "output_type": "display_data"
    }
   ],
   "source": [
    "# name->id\n",
    "which(V(largest_g)$name == \"906\")"
   ]
  },
  {
   "cell_type": "code",
   "execution_count": null,
   "metadata": {},
   "outputs": [],
   "source": [
    "# id->name\n",
    "V(g)$name[1968]"
   ]
  },
  {
   "cell_type": "code",
   "execution_count": null,
   "metadata": {},
   "outputs": [],
   "source": [
    "for(pp in pt[1])\n",
    "{\n",
    "    print(V(g)$name[pp])\n",
    "    \n",
    "}"
   ]
  },
  {
   "cell_type": "code",
   "execution_count": null,
   "metadata": {
    "scrolled": false
   },
   "outputs": [],
   "source": [
    "print(data[which(data$sourceid == 2606 & data$dstid == 23),])"
   ]
  },
  {
   "cell_type": "code",
   "execution_count": null,
   "metadata": {},
   "outputs": [],
   "source": [
    "ff=c(2606,23,896, 377 ,1909 ,2070, 718,  2187 ,1869, 676 , 1786 ,1527 ,1783 ,2563, 889,2170, 2062, 1967)\n",
    "sum=0\n",
    "for(f in ff)\n",
    "{\n",
    "    print(data[which(data$sourceid == f & data$sourceid == 23),4])\n",
    "    \n",
    "}\n",
    "sum"
   ]
  },
  {
   "cell_type": "code",
   "execution_count": null,
   "metadata": {},
   "outputs": [],
   "source": []
  },
  {
   "cell_type": "code",
   "execution_count": null,
   "metadata": {},
   "outputs": [],
   "source": [
    "V(g)$name[neighbors(g,2072)]"
   ]
  },
  {
   "cell_type": "code",
   "execution_count": null,
   "metadata": {},
   "outputs": [],
   "source": [
    "g_mst<-mst(g)"
   ]
  },
  {
   "cell_type": "code",
   "execution_count": null,
   "metadata": {},
   "outputs": [],
   "source": [
    "2607\n",
    "1968"
   ]
  }
 ],
 "metadata": {
  "kernelspec": {
   "display_name": "R",
   "language": "R",
   "name": "ir"
  },
  "language_info": {
   "codemirror_mode": "r",
   "file_extension": ".r",
   "mimetype": "text/x-r-source",
   "name": "R",
   "pygments_lexer": "r",
   "version": "3.4.3"
  }
 },
 "nbformat": 4,
 "nbformat_minor": 2
}
