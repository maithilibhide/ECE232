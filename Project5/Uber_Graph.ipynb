{
 "cells": [
  {
   "cell_type": "code",
   "execution_count": 13,
   "metadata": {},
   "outputs": [],
   "source": [
    "library('igraph')"
   ]
  },
  {
   "cell_type": "code",
   "execution_count": 3,
   "metadata": {},
   "outputs": [],
   "source": [
    "movement_graph <- read.table('../uber_data/movement_edgelist.txt')"
   ]
  },
  {
   "cell_type": "code",
   "execution_count": 4,
   "metadata": {},
   "outputs": [],
   "source": [
    "g <- graph_from_data_frame(movement_graph, directed=FALSE)"
   ]
  },
  {
   "cell_type": "code",
   "execution_count": 6,
   "metadata": {},
   "outputs": [],
   "source": [
    "E(g)$weight=as.numeric(movement_graph[,3])"
   ]
  },
  {
   "cell_type": "code",
   "execution_count": 7,
   "metadata": {},
   "outputs": [
    {
     "data": {
      "text/html": [
       "FALSE"
      ],
      "text/latex": [
       "FALSE"
      ],
      "text/markdown": [
       "FALSE"
      ],
      "text/plain": [
       "[1] FALSE"
      ]
     },
     "metadata": {},
     "output_type": "display_data"
    },
    {
     "name": "stdout",
     "output_type": "stream",
     "text": [
      "Number of edges:  311812\n",
      "Number of vertices:  1887\n",
      "Diameter:  11911.84\n"
     ]
    }
   ],
   "source": [
    "is.connected(g)\n",
    "writeLines(paste(\"Number of edges: \", ecount(g)))\n",
    "writeLines(paste(\"Number of vertices: \", vcount(g)))\n",
    "writeLines(paste(\"Diameter: \", diameter(g)))\n",
    "#plot(g, vertex.label=NA, vertex.size=3)"
   ]
  },
  {
   "cell_type": "code",
   "execution_count": 11,
   "metadata": {},
   "outputs": [
    {
     "name": "stdout",
     "output_type": "stream",
     "text": [
      "[1] 1\n",
      "Number of edges:  311802\n",
      "Number of vertices:  1880\n",
      "Diameter of GCC:  11911.84\n"
     ]
    }
   ],
   "source": [
    "dg <- decompose.graph(g)      \n",
    "gcc_index <- which.max(sapply(dg,vcount))\n",
    "gcc <- dg[[gcc_index]] \n",
    "clusters <- components(gcc)\n",
    "print(dim(groups(clusters)))\n",
    "writeLines(paste(\"Number of edges: \", ecount(gcc)))\n",
    "writeLines(paste(\"Number of vertices: \", vcount(gcc)))\n",
    "writeLines(paste(\"Diameter of GCC: \", diameter(gcc)))"
   ]
  },
  {
   "cell_type": "code",
   "execution_count": null,
   "metadata": {},
   "outputs": [],
   "source": []
  }
 ],
 "metadata": {
  "kernelspec": {
   "display_name": "R",
   "language": "R",
   "name": "ir"
  },
  "language_info": {
   "codemirror_mode": "r",
   "file_extension": ".r",
   "mimetype": "text/x-r-source",
   "name": "R",
   "pygments_lexer": "r",
   "version": "3.4.4"
  }
 },
 "nbformat": 4,
 "nbformat_minor": 2
}
